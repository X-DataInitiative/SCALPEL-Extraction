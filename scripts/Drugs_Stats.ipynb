{
 "cells": [
  {
   "cell_type": "code",
   "execution_count": 1,
   "metadata": {
    "collapsed": false
   },
   "outputs": [
    {
     "name": "stdout",
     "output_type": "stream",
     "text": [
      "affected patients: 32912\n"
     ]
    },
    {
     "data": {
      "text/html": [
       "<div>\n",
       "<table border=\"1\" class=\"dataframe\">\n",
       "  <thead>\n",
       "    <tr style=\"text-align: right;\">\n",
       "      <th></th>\n",
       "      <th>min(start)</th>\n",
       "      <th>max(start)</th>\n",
       "    </tr>\n",
       "  </thead>\n",
       "  <tbody>\n",
       "    <tr>\n",
       "      <th>0</th>\n",
       "      <td>2009-10-02</td>\n",
       "      <td>2010-12-31</td>\n",
       "    </tr>\n",
       "  </tbody>\n",
       "</table>\n",
       "</div>"
      ],
      "text/plain": [
       "  min(start) max(start)\n",
       "0 2009-10-02 2010-12-31"
      ]
     },
     "metadata": {},
     "output_type": "display_data"
    }
   ],
   "source": [
    "from pyspark.sql import functions as fn\n",
    "from pyspark.sql import Window\n",
    "from IPython.display import display\n",
    "from datetime import datetime\n",
    "import collections\n",
    "\n",
    "root_path = \"/user/silva/output/fall\"\n",
    "\n",
    "patients_path = root_path + \"patients\"\n",
    "diagnoses_path = root_path + \"diagnoses\"\n",
    "drugs_path = root_path + \"drug-purchases\"\n",
    "fractures_path = root_path + \"fractures\"\n",
    "\n",
    "Dates = collections.namedtuple('dates', ['lower_bound', 'upper_bound'])\n",
    "dates = Dates(\n",
    "    lower_bound = datetime(2006, 1, 1, 0, 0, 0),\n",
    "    upper_bound = datetime(2011, 1, 1, 0, 0, 0)\n",
    ")\n",
    "\n",
    "def filter_date(df):\n",
    "    return df.where(\n",
    "        (fn.col(\"start\") >= fn.lit(dates.lower_bound)) &\n",
    "        (fn.col(\"start\") < fn.lit(dates.upper_bound))\n",
    "    )\n",
    "\n",
    "drugs = filter_date(sqlContext.read.parquet(drugs_path)).cache()\n",
    "diagnoses = filter_date(sqlContext.read.parquet(diagnoses_path)).cache()\n",
    "fractures = filter_date(sqlContext.read.parquet(fractures_path))\n",
    "events = drugs.union(diagnoses).cache()\n",
    "patients = sqlContext.read.parquet(patients_path).cache()\n",
    "\n",
    "affected_patients = fractures.select(\"patientID\").distinct().cache()\n",
    "\n",
    "print(\"affected patients: {}\".format(affected_patients.count()))\n",
    "display(events.agg(fn.min(\"start\"), fn.max(\"start\")).toPandas())"
   ]
  },
  {
   "cell_type": "code",
   "execution_count": 2,
   "metadata": {
    "collapsed": false
   },
   "outputs": [
    {
     "name": "stdout",
     "output_type": "stream",
     "text": [
      "+-----------------+\n",
      "|            value|\n",
      "+-----------------+\n",
      "|Antihypertenseurs|\n",
      "|      Hypnotiques|\n",
      "|  Antidepresseurs|\n",
      "|   Neuroleptiques|\n",
      "+-----------------+\n",
      "\n"
     ]
    }
   ],
   "source": [
    "drugs.select(\"value\").distinct().cache().show()"
   ]
  },
  {
   "cell_type": "code",
   "execution_count": 3,
   "metadata": {
    "collapsed": false
   },
   "outputs": [],
   "source": [
    "from itertools import chain\n",
    "\n",
    "class MyDF(object):\n",
    "    \n",
    "    def __init__(self, patients, drugs, cohort_name, max_age=150):\n",
    "        self.df = drugs.join(patients, \"patientID\", \"inner\").cache()\n",
    "        self.cohort_name = cohort_name\n",
    "        self.bucket_mapping = self._get_string_maps(max_age)\n",
    "        \n",
    "    def _get_string_maps(self, max_age):\n",
    "        age_lists = range(0, max_age, 5)\n",
    "        buckets = zip(age_lists[:-1], age_lists[1:])\n",
    "        string_maps = {i: \"[{}, {}[\".format(bucket[0], bucket[1]) for (i, bucket) in enumerate(buckets)}\n",
    "        return string_maps\n",
    "        \n",
    "    def _add_reference_date(self):\n",
    "        self.df = (\n",
    "            self.df.withColumn(\"referenceDate\", fn.trunc(fn.col('start'), 'year'))\n",
    "        )\n",
    "        \n",
    "        \n",
    "    def _add_age_in_months(self):\n",
    "        try:\n",
    "            self.df = self.df.withColumn(\"ageInMonths\", fn.months_between(fn.col(\"referenceDate\"), fn.col(\"birthDate\"))) \n",
    "        except:\n",
    "            self._add_reference_date()\n",
    "            self.df = self.df.withColumn(\"ageInMonths\", fn.months_between(fn.col(\"referenceDate\"), fn.col(\"birthDate\")))\n",
    "        \n",
    "    def add_age(self):\n",
    "        try:\n",
    "            self.df = self.df.withColumn(\"age\", fn.expr(\"ageInMonths div 12\"))\n",
    "        except:\n",
    "            self._add_age_in_months()\n",
    "            self.df = self.df.withColumn(\"age\", fn.expr(\"ageInMonths div 12\"))\n",
    "            \n",
    "    def add_age_bucket(self):\n",
    "        try:\n",
    "            self.df = self.df.withColumn(\"ageBucket\", fn.expr(\"ageInMonths div (12*5)\"))\n",
    "        except:\n",
    "            self._add_age_in_months()\n",
    "            self.df = self.df.withColumn(\"ageBucket\", fn.expr(\"ageInMonths div (12*5)\"))"
   ]
  },
  {
   "cell_type": "code",
   "execution_count": 4,
   "metadata": {
    "collapsed": false
   },
   "outputs": [],
   "source": [
    "from IPython.display import display\n",
    "import seaborn as sns\n",
    "\n",
    "import matplotlib.ticker as ticker\n",
    "\n",
    "sns.set_style(\"whitegrid\")\n",
    "sns.set_context(\"poster\")\n",
    "\n",
    "\n",
    "def boxes_mapping():\n",
    "    boxes_list = range(0, 1000, 6)\n",
    "    buckets = zip(boxes_list[:-1], boxes_list[1:])\n",
    "    string_maps = {i: \"[{}, {}[\".format(bucket[0], bucket[1]) for (i, bucket) in enumerate(buckets)}\n",
    "    return string_maps\n",
    "\n",
    "\n",
    "def age_mapping(max_age):\n",
    "    age_lists = range(0, max_age, 5)\n",
    "    buckets = zip(age_lists[:-1], age_lists[1:])\n",
    "    string_maps = {i: \"[{}, {}[\".format(bucket[0], bucket[1]) for (i, bucket) in enumerate(buckets)}\n",
    "    return string_maps\n",
    "\n",
    "def special_boxes_mapping():\n",
    "    return {i: text for (i, text) in enumerate([\"1 Achat\", \"2 Achats\", \"3 à 12 Achats\",\n",
    "                                                       \"Plus de 12 Achats\"])}\n",
    "\n",
    "\n",
    "def count_box_to_bucket(number_boxes):\n",
    "    return number_boxes // 6\n",
    "\n",
    "\n",
    "class Stats(object):\n",
    "    \n",
    "    def __init__(self, patients, drugs, drugs_name):\n",
    "        self.myDF = MyDF(patients, drugs, drugs_name)\n",
    "        self.myDF.add_age_bucket()\n",
    "        self.stats = self.myDF.df.groupby(\"patientID\",  \"ageBucket\", \"gender\").count().toPandas()\n",
    "        self.drugs_name = drugs_name\n",
    "        self.boxes_mapping = boxes_mapping()\n",
    "        self.age_mapping = age_mapping(150)\n",
    "        self.special_boxes_mapping = special_boxes_mapping()\n",
    "        \n",
    "        def _special_box_buckets(number_boxes):\n",
    "            if number_boxes == 1:\n",
    "                return 0\n",
    "            if number_boxes == 2:\n",
    "                return 1\n",
    "            if 2 < number_boxes < 13:\n",
    "                return 2\n",
    "            else:\n",
    "                return 3\n",
    "        \n",
    "        r = self.stats[\"count\"].apply(lambda x: x // 6)\n",
    "        self.stats[\"boxBucket\"] = r\n",
    "        \n",
    "        s = self.stats[\"count\"].apply(_special_box_buckets)\n",
    "        self.stats[\"specialBucket\"] = s\n",
    "        \n",
    "        self.filtered_stats = self.stats[(self.stats.ageBucket < 20) & (self.stats.ageBucket > 12) & (self.stats[\"count\"] < 50)].copy()\n",
    "        \n",
    "    def distribution_box(self, logscale=False, percentage=False):\n",
    "        if percentage:\n",
    "            ax = sns.barplot(x=\"count\", y=\"count\", data=self.stats,\n",
    "                             estimator=lambda x: len(x) / len(self.stats) * 100)\n",
    "            ax.set_ylabel(\"Pourcentage sur population\")\n",
    "        else:\n",
    "            ax = sns.countplot(x=\"count\", data=self.stats)\n",
    "            ax.set_ylabel(\"Nombre de patient\")\n",
    "        \n",
    "        ax.xaxis.set_major_locator(ticker.MultipleLocator(5))\n",
    "        ax.xaxis.set_major_formatter(ticker.ScalarFormatter())\n",
    "\n",
    "        \n",
    "        ax.set_xlabel(\"Nombre d'achat sur une annee pour un patient\")\n",
    "        \n",
    "        ax.set_title(\"Distribution de nombre d'achat de {} par an-patient\".format(self.drugs_name))\n",
    "        \n",
    "        if logscale:\n",
    "            ax.set_yscale(\"log\", nonposy='clip')\n",
    "            \n",
    "        return ax\n",
    "        \n",
    "    def distribution_box_bucket(self, special=False, logscale=False, percentage=False):\n",
    "        criterion = \"specialBucket\" if special else \"boxBucket\"\n",
    "        \n",
    "        if percentage:\n",
    "            ax = sns.barplot(x=criterion, y=criterion, data=self.stats,\n",
    "                             estimator=lambda x: len(x) / len(self.stats) * 100)\n",
    "            ax.set_ylabel(\"Pourcentage sur population\")\n",
    "        else:\n",
    "            ax = sns.countplot(x=criterion, data=self.stats)\n",
    "            ax.set_ylabel(\"Nombre de patient\")\n",
    "        \n",
    "        mapping_to_use = self.special_boxes_mapping if special else self.boxes_mapping\n",
    "        x_tickslabels = [mapping_to_use[int(tick.get_text())] for tick in ax.get_xticklabels()]\n",
    "        rotation = 0 if special else 90\n",
    "        ax.set_xticklabels(x_tickslabels, rotation=rotation)\n",
    "        \n",
    "        ax.set_xlabel(\"Nombre d'achat sur une annee pour un patient\")\n",
    "        \n",
    "        ax.set_title(\"Distribution de nombre d'achat de {} par an-patient\".format(self.drugs_name))\n",
    "        \n",
    "        if logscale:\n",
    "            ax.set_yscale(\"log\", nonposy='clip')\n",
    "        return ax\n",
    "    \n",
    "    def distribution_box_bucket_age_bucket(self, special=False, logscale=False, percentage=False):\n",
    "        criterion = \"specialBucket\" if special else \"boxBucket\"\n",
    "        if percentage:\n",
    "            patient_counts = (self.filtered_stats.groupby(['ageBucket'])[criterion]\n",
    "                                 .value_counts(normalize=True)\n",
    "                                 .rename('percentage')\n",
    "                                 .mul(100)\n",
    "                                 .reset_index()\n",
    "                                 .sort_values('ageBucket'))\n",
    "            ax = sns.barplot(x=\"ageBucket\", y=\"percentage\", hue=criterion, data=patient_counts,\n",
    "                            palette=sns.color_palette(\"Paired\", n_colors=9))\n",
    "            ax.set_ylabel(\"Pourcentage dans la tranche d'age\")\n",
    "            \n",
    "        else:\n",
    "            ax = sns.countplot(x=\"ageBucket\", hue=criterion,\n",
    "                               data=self.filtered_stats,\n",
    "                               palette=sns.color_palette(\"Paired\", n_colors=9))\n",
    "            ax.set_ylabel(\"Nombre de patient\")\n",
    "        \n",
    "        ax.legend(loc='center left', bbox_to_anchor=(1, 0.5),\n",
    "                  title=\"Nombre d'achat par\\nan par patient\")\n",
    "        \n",
    "        mapping_to_use = self.special_boxes_mapping if special else self.boxes_mapping\n",
    "        \n",
    "        legend = ax.get_legend()\n",
    "        [label.set_text(mapping_to_use[int(label.get_text())]) for label in legend.get_texts()]\n",
    "\n",
    "        x_tickslabels = [self.age_mapping[int(tick.get_text())] for tick in ax.get_xticklabels()]\n",
    "        rotation = 0 if special else 90\n",
    "        ax.set_xticklabels(x_tickslabels, rotation=rotation)\n",
    "        \n",
    "        ax.set_xlabel(\"Tranche d'age du patient\")\n",
    "        \n",
    "        ax.set_title(\"Distribution de nombre d'achat de {}\\npar an-patient suivant les tranches d'age\".format(self.drugs_name))\n",
    "        \n",
    "        if logscale:\n",
    "            ax.set_yscale(\"log\", nonposy='clip')\n",
    "            \n",
    "        return ax\n",
    "    \n",
    "    def distribution_box_bucket_gender(self, special=False, logscale=False, percentage=False):\n",
    "        criterion = \"specialBucket\" if special else \"boxBucket\"\n",
    "        if percentage:\n",
    "            patient_counts = (self.filtered_stats.groupby(['gender'])[criterion]\n",
    "                                 .value_counts(normalize=True)\n",
    "                                 .rename('percentage')\n",
    "                                 .mul(100)\n",
    "                                 .reset_index()\n",
    "                                 .sort_values('gender'))\n",
    "            ax = sns.barplot(x=\"gender\", y=\"percentage\", hue=criterion, data=patient_counts,\n",
    "                            palette=sns.color_palette(\"Paired\", n_colors=9))\n",
    "            ax.set_ylabel(\"Pourcentage selon le genre\")\n",
    "            \n",
    "        else:\n",
    "            ax = sns.countplot(x=\"gender\", hue=criterion,\n",
    "                               data=self.filtered_stats,\n",
    "                               palette=sns.color_palette(\"Paired\", n_colors=9))\n",
    "            ax.set_ylabel(\"Nombre de patient\")\n",
    "        \n",
    "        ax.legend(loc='center left', bbox_to_anchor=(1, 0.5),\n",
    "                  title=\"Nombre d'achat par\\nan par patient\")\n",
    "        \n",
    "        mapping_to_use = self.special_boxes_mapping if special else self.boxes_mapping\n",
    "        \n",
    "        legend = ax.get_legend()\n",
    "        [label.set_text(mapping_to_use[int(label.get_text())]) for label in legend.get_texts()]\n",
    "        \n",
    "        ax.set_xticklabels([\"Homme\", \"Femme\"])\n",
    "        \n",
    "        ax.set_xlabel(\"Genre\")\n",
    "        \n",
    "        ax.set_title(\"Distribution de nombre d'achat de {}\\npar an-patient suivant le genre\".format(self.drugs_name))\n",
    "        \n",
    "        if logscale:\n",
    "            ax.set_yscale(\"log\", nonposy='clip')\n",
    "            \n",
    "        return ax\n",
    "    "
   ]
  },
  {
   "cell_type": "code",
   "execution_count": 5,
   "metadata": {
    "collapsed": true
   },
   "outputs": [],
   "source": [
    "sns.set_style(\"whitegrid\")\n",
    "sns.set_context(\"poster\")"
   ]
  },
  {
   "cell_type": "code",
   "execution_count": 10,
   "metadata": {
    "collapsed": true
   },
   "outputs": [],
   "source": [
    "from itertools import product\n",
    "from matplotlib.backends.backend_pdf import PdfPages\n",
    "import matplotlib.pyplot as plt\n",
    "\n",
    "def save_pdf(patients, drugs, drugs_class, description):\n",
    "    stats = Stats(patients, drugs.where(fn.col(\"value\") == drugs_class), \"{}({})\".format(drugs_class, description))\n",
    "    \n",
    "    with PdfPages('{}_{}_stats.pdf'.format(drugs_class, description)) as pdf:\n",
    "        for percentage in [True, False]:\n",
    "            if not percentage:\n",
    "                for logscale in [True, False]:\n",
    "                    fig = plt.figure()\n",
    "                    stats.distribution_box(percentage=percentage, logscale=logscale)\n",
    "                    plt.tight_layout()\n",
    "                    pdf.savefig(fig)\n",
    "            else:\n",
    "                fig = plt.figure()\n",
    "                stats.distribution_box(percentage=percentage)\n",
    "                plt.tight_layout()\n",
    "                pdf.savefig(fig)\n",
    "        \n",
    "        for special, percentage in product([True, False], [True, False]):\n",
    "            if not percentage:\n",
    "                for logscale in [True, False]:\n",
    "                    fig = plt.figure()\n",
    "                    stats.distribution_box_bucket(percentage=percentage, logscale=logscale,\n",
    "                                                 special=special)\n",
    "                    plt.tight_layout()\n",
    "                    pdf.savefig(fig)\n",
    "            else:\n",
    "                fig = plt.figure()\n",
    "                stats.distribution_box_bucket(percentage=percentage, special=special)\n",
    "                plt.tight_layout()\n",
    "                pdf.savefig(fig)\n",
    "                \n",
    "        for special, percentage in product([True, False], [True, False]):\n",
    "            if not percentage:\n",
    "                for logscale in [True, False]:\n",
    "                    fig = plt.figure()\n",
    "                    stats.distribution_box_bucket_age_bucket(percentage=percentage, logscale=logscale,\n",
    "                                                 special=special)\n",
    "                    plt.tight_layout()\n",
    "                    plt.subplots_adjust(right=0.75)\n",
    "                    pdf.savefig(fig)\n",
    "            else:\n",
    "                fig = plt.figure()\n",
    "                stats.distribution_box_bucket_age_bucket(percentage=percentage, special=special)\n",
    "                plt.tight_layout()\n",
    "                plt.subplots_adjust(right=0.75)\n",
    "                pdf.savefig(fig)\n",
    "                \n",
    "        for special, percentage in product([True, False], [True, False]):\n",
    "            if not percentage:\n",
    "                for logscale in [True, False]:\n",
    "                    fig = plt.figure()\n",
    "                    stats.distribution_box_bucket_gender(percentage=percentage, logscale=logscale,\n",
    "                                                 special=special)\n",
    "                    plt.tight_layout()\n",
    "                    plt.subplots_adjust(right=0.75)\n",
    "                    pdf.savefig(fig)\n",
    "            else:\n",
    "                fig = plt.figure()\n",
    "                stats.distribution_box_bucket_gender(percentage=percentage, special=special)\n",
    "                plt.tight_layout()\n",
    "                plt.subplots_adjust(right=0.75)\n",
    "                pdf.savefig(fig)"
   ]
  },
  {
   "cell_type": "markdown",
   "metadata": {},
   "source": [
    "# Tout patients"
   ]
  },
  {
   "cell_type": "code",
   "execution_count": 12,
   "metadata": {
    "collapsed": false
   },
   "outputs": [
    {
     "name": "stderr",
     "output_type": "stream",
     "text": [
      "/usr/local/lib/anaconda3/lib/python3.5/site-packages/matplotlib/pyplot.py:524: RuntimeWarning: More than 20 figures have been opened. Figures created through the pyplot interface (`matplotlib.pyplot.figure`) are retained until explicitly closed and may consume too much memory. (To control this warning, see the rcParam `figure.max_open_warning`).\n",
      "  max_open_warning, RuntimeWarning)\n"
     ]
    }
   ],
   "source": [
    "drugs_classes = [\"Antihypertenseurs\", \"Hypnotiques\", \"Antidepresseurs\", \"Neuroleptiques\"]\n",
    "\n",
    "for drug_class in drugs_classes:\n",
    "    save_pdf(patients, drugs, drug_class, \"tout_patients\")"
   ]
  },
  {
   "cell_type": "markdown",
   "metadata": {},
   "source": [
    "#  Affected patients : patients with fractures"
   ]
  },
  {
   "cell_type": "code",
   "execution_count": 15,
   "metadata": {
    "collapsed": false
   },
   "outputs": [],
   "source": [
    "affected = patients.join(affected_patients, \"patientID\", \"inner\").cache()"
   ]
  },
  {
   "cell_type": "code",
   "execution_count": 17,
   "metadata": {
    "collapsed": false
   },
   "outputs": [
    {
     "name": "stderr",
     "output_type": "stream",
     "text": [
      "/usr/local/lib/anaconda3/lib/python3.5/site-packages/matplotlib/pyplot.py:524: RuntimeWarning: More than 20 figures have been opened. Figures created through the pyplot interface (`matplotlib.pyplot.figure`) are retained until explicitly closed and may consume too much memory. (To control this warning, see the rcParam `figure.max_open_warning`).\n",
      "  max_open_warning, RuntimeWarning)\n"
     ]
    }
   ],
   "source": [
    "for drug_class in drugs_classes:\n",
    "    save_pdf(affected, drugs, drug_class, \"avec fracture\")"
   ]
  }
 ],
 "metadata": {
  "kernelspec": {
   "display_name": "Python 3",
   "language": "python",
   "name": "python3"
  },
  "language_info": {
   "codemirror_mode": {
    "name": "ipython",
    "version": 3
   },
   "file_extension": ".py",
   "mimetype": "text/x-python",
   "name": "python",
   "nbconvert_exporter": "python",
   "pygments_lexer": "ipython3",
   "version": "3.5.3"
  }
 },
 "nbformat": 4,
 "nbformat_minor": 2
}
