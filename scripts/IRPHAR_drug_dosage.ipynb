{
 "cells": [
  {
   "cell_type": "code",
   "execution_count": 2,
   "metadata": {
    "collapsed": true
   },
   "outputs": [],
   "source": [
    "import pandas as pd\n",
    "import numpy as np\n",
    "import matplotlib"
   ]
  },
  {
   "cell_type": "code",
   "execution_count": null,
   "metadata": {
    "collapsed": true
   },
   "outputs": [],
   "source": [
    "# IR_PHA_R\n",
    "\n",
    "The goal of this notebook is to explore a bit the value table IR_PHA_R.\n",
    "In particular, we are interested in 4 classes of drugs :\n",
    "- Antidépresseurs\n",
    "- Neuroleptiques\n",
    "- Anxiolytiques\n",
    "- HTA\n",
    "\n",
    "For each class, we want to answer different problematics :\n",
    "\n",
    "- Do we have all the drugs corresponding to the provided description ?\n",
    "- How can we extract the quantity of each molecule ? Are the unit easy to interpret ?\n",
    "- How can we see the packaging for each drug ? How much drugs are prescribed for 1 month ? More than 1 month ? Less than 1 month ?\n",
    "- How many molecules are in this category ?\n",
    "- Are there molecule from this drug list that are present in drugs outside of this list ?\n",
    "\n",
    "Also we need to check the consistency between a reference csv version of this value table and the parquet file for each project."
   ]
  },
  {
   "cell_type": "code",
   "execution_count": 1,
   "metadata": {
    "collapsed": true
   },
   "outputs": [],
   "source": [
    "IRPHAR = spark.read.option(\"header\", True).option(\"delimiter\", \";\").option(\"inferSchema\", True).csv(\"D:/firas/fallscripts/ir_pha_r.csv\")"
   ]
  },
  {
   "cell_type": "markdown",
   "metadata": {},
   "source": [
    "let's see the different types of dosages in the table :"
   ]
  },
  {
   "cell_type": "code",
   "execution_count": 46,
   "metadata": {},
   "outputs": [
    {
     "name": "stdout",
     "output_type": "stream",
     "text": [
      "Number of drugs:  24143\n"
     ]
    }
   ],
   "source": [
    "print(\"Number of drugs: \", IRPHAR.count())"
   ]
  },
  {
   "cell_type": "code",
   "execution_count": 45,
   "metadata": {},
   "outputs": [
    {
     "name": "stdout",
     "output_type": "stream",
     "text": [
      "+-------------+-----+\n",
      "|  PHA_FRM_LIB|count|\n",
      "+-------------+-----+\n",
      "|     COMPRIME|10357|\n",
      "|         null| 5246|\n",
      "|     SOLUTION| 2518|\n",
      "|       GELULE| 2168|\n",
      "|       POUDRE| 1163|\n",
      "|   SUSPENSION|  427|\n",
      "|      COLLYRE|  357|\n",
      "|     GRANULES|  211|\n",
      "|   DISPOSITIF|  201|\n",
      "| SUPPOSITOIRE|  199|\n",
      "|        SIROP|  193|\n",
      "|        CREME|  192|\n",
      "|          GEL|  171|\n",
      "|CAPSULE MOLLE|  168|\n",
      "|      POMMADE|  125|\n",
      "|        GOMME|   79|\n",
      "|     EMULSION|   67|\n",
      "| CAPSULE DURE|   48|\n",
      "|  LYOPHILISAT|   39|\n",
      "|      SOLVANT|   35|\n",
      "|      GRANULE|   25|\n",
      "|        OVULE|   24|\n",
      "|         FILM|   19|\n",
      "|     PASTILLE|   17|\n",
      "|    COMPRESSE|   16|\n",
      "|         PATE|   15|\n",
      "|       LOTION|    9|\n",
      "|       VERNIS|    7|\n",
      "|   SHAMPOOING|    6|\n",
      "|          GAZ|    5|\n",
      "+-------------+-----+\n",
      "only showing top 30 rows\n",
      "\n"
     ]
    }
   ],
   "source": [
    "from pyspark.sql.functions import desc\n",
    "IRPHAR.groupBy(IRPHAR.PHA_FRM_LIB).count().orderBy(desc(\"count\")).show(30)"
   ]
  },
  {
   "cell_type": "markdown",
   "metadata": {},
   "source": [
    "##  Drug families"
   ]
  },
  {
   "cell_type": "code",
   "execution_count": 4,
   "metadata": {
    "collapsed": true
   },
   "outputs": [],
   "source": [
    "families = [\"Antidepresseurs\", \"Neuroleptiques\", \"Anxiolyique\", \"HTA\"]\n",
    "definitions = [[\"N06A\"], [\"N05A\"], [\"N05CD\", \"N05CF\", \"N05CX\", \"N05B\", \"N05CM11\", \"N05CM11\", \"N05CM16\"],[\"C02\", \"C03\", \"C07\", \"C08\", \"C09\", \"C10BX04\", \"C10BX03\"]]\n",
    "ATCStartexceptions = [[], [], [], []]\n",
    "CIPexceptions = [[\"3333802\"], [\"3289633\"], [], []]\n",
    "ATCexceptions = [[], [\"N05AL06\", \"N05AN01\"], [\"N05CD08\"],[\"C02CA02\"]]"
   ]
  },
  {
   "cell_type": "markdown",
   "metadata": {},
   "source": [
    "## Filter the drug families from IR_PHA_R"
   ]
  },
  {
   "cell_type": "code",
   "execution_count": 5,
   "metadata": {},
   "outputs": [],
   "source": [
    "from pyspark.sql.functions import udf, count\n",
    "from pyspark.sql.functions import isnan, count, when, col\n",
    "test_udf = udf(lambda pattern, ls: True if any(ls).startswith(pattern) else False)\n",
    "\n",
    "i = 0\n",
    "AntidepresseursTable = IRPHAR.filter((IRPHAR.PHA_ATC_C07.substr(0,4).alias(\"ATC\").isin(definitions[i])) & \\\n",
    "                                                         (IRPHAR.PHA_ATC_C07.isin(ATCexceptions[i]) == False) & \\\n",
    "                                                         (IRPHAR.PHA_PRS_IDE.isin(CIPexceptions[i]) == False) & \\\n",
    "                                                         (IRPHAR.PHA_ATC_C07.substr(0,5).isin(ATCStartexceptions[i]) == False) )\n",
    "i = 1\n",
    "Neuro = IRPHAR.filter((IRPHAR.PHA_ATC_C07.substr(0,4).alias(\"ATC\").isin(definitions[i])) & \\\n",
    "                                                         (IRPHAR.PHA_ATC_C07.isin(ATCexceptions[i]) == False) & \\\n",
    "                                                         (IRPHAR.PHA_PRS_IDE.isin(CIPexceptions[i]) == False) & \\\n",
    "                                                         (IRPHAR.PHA_ATC_C07.substr(0,5).isin(ATCStartexceptions[i]) == False) )\n",
    "\n",
    "i = 2\n",
    "Anxio = IRPHAR.filter(((IRPHAR.PHA_ATC_C07.alias(\"ATC\").isin(definitions[i])) | \\\n",
    "                           (IRPHAR.PHA_ATC_C07.substr(0,5).alias(\"ATC\").isin(definitions[i])) | \\\n",
    "                          (IRPHAR.PHA_ATC_C07.substr(0,4).alias(\"ATC4\").isin(definitions[i]))) & \\\n",
    "                                                         (IRPHAR.PHA_ATC_C07.isin(ATCexceptions[i]) == False) & \\\n",
    "                                                         (IRPHAR.PHA_PRS_IDE.isin(CIPexceptions[i]) == False) & \\\n",
    "                                                         (IRPHAR.PHA_ATC_C07.substr(0,5).isin(ATCStartexceptions[i]) == False) )\n",
    "i = 3\n",
    "HTA_IRPHAR_ATC = IRPHAR.filter(((IRPHAR.PHA_ATC_C07.substr(0,3).alias(\"ATC\").isin(definitions[i])) | (IRPHAR.PHA_ATC_C07.isin(definitions[i]))) & \\\n",
    "                                                         (IRPHAR.PHA_ATC_C07.isin(ATCexceptions[i]) == False) & \\\n",
    "                                                         (IRPHAR.PHA_PRS_IDE.isin(CIPexceptions[i]) == False) & \\\n",
    "                                                         (IRPHAR.PHA_ATC_C07.substr(0,5).isin(ATCStartexceptions[i]) == False) )\n",
    "data = AntidepresseursTable.union(Neuro).union(Anxio).union(HTA_IRPHAR_ATC)"
   ]
  },
  {
   "cell_type": "code",
   "execution_count": 47,
   "metadata": {},
   "outputs": [
    {
     "name": "stdout",
     "output_type": "stream",
     "text": [
      "+-------------+-----+\n",
      "|  PHA_FRM_LIB|count|\n",
      "+-------------+-----+\n",
      "|     COMPRIME| 3848|\n",
      "|         null| 1400|\n",
      "|       GELULE|  461|\n",
      "|     SOLUTION|   94|\n",
      "|CAPSULE MOLLE|   12|\n",
      "|   SUSPENSION|   11|\n",
      "|       POUDRE|    7|\n",
      "|        SIROP|    4|\n",
      "|  LYOPHILISAT|    2|\n",
      "+-------------+-----+\n",
      "\n",
      "+----------------+\n",
      "|PHA_DOS_UNT_DSES|\n",
      "+----------------+\n",
      "|        MG/10 ML|\n",
      "|           MG/ML|\n",
      "|         MG/5 ML|\n",
      "|        G/100 ML|\n",
      "|       MG/2,5 MG|\n",
      "|           MG/MG|\n",
      "|         MG/2 ML|\n",
      "|              MG|\n",
      "|          G/5 ML|\n",
      "|         G/10 ML|\n",
      "|         G/15 ML|\n",
      "|               G|\n",
      "|        MG/MG/MG|\n",
      "|               %|\n",
      "|         MG/1 ML|\n",
      "|         MG/4 ML|\n",
      "+----------------+\n",
      "\n"
     ]
    }
   ],
   "source": [
    "data.select(\"PHA_FRM_LIB\").groupBy(\"PHA_FRM_LIB\").count().orderBy(desc(\"count\")).show()\n",
    "data.select(\"PHA_DOS_UNT_DSES\").distinct().show()"
   ]
  },
  {
   "cell_type": "markdown",
   "metadata": {},
   "source": [
    "### There are 1400 missing drug forms !! <br>\n",
    "=> We should investigate the different forms of drugs above and their dosage unity !"
   ]
  },
  {
   "cell_type": "code",
   "execution_count": 83,
   "metadata": {
    "collapsed": true
   },
   "outputs": [],
   "source": [
    "columnList = [\"PHA_MED_NOM\",\"PHA_NOM_PA\", \"PHA_CIP_C13\", \"PHA_ATC_L03\", \"PHA_FRM_LIB\", \"PHA_DOS_PRA_DSES\", \"PHA_DOS_UNT_DSES\",\"PHA_UNT_NBR_DSES\", \"PHA_CND_TOP\"]"
   ]
  },
  {
   "cell_type": "code",
   "execution_count": 84,
   "metadata": {},
   "outputs": [
    {
     "name": "stdout",
     "output_type": "stream",
     "text": [
      "+-----------+----------+-----------+-----------+-----------+----------------+----------------+----------------+-----------+\n",
      "|PHA_MED_NOM|PHA_NOM_PA|PHA_CIP_C13|PHA_ATC_L03|PHA_FRM_LIB|PHA_DOS_PRA_DSES|PHA_DOS_UNT_DSES|PHA_UNT_NBR_DSES|PHA_CND_TOP|\n",
      "+-----------+----------+-----------+-----------+-----------+----------------+----------------+----------------+-----------+\n",
      "|          0|         0|          0|          0|       1400|               0|               0|               0|          0|\n",
      "+-----------+----------+-----------+-----------+-----------+----------------+----------------+----------------+-----------+\n",
      "\n"
     ]
    }
   ],
   "source": [
    "from pyspark.sql.functions import isnan, when, count, col\n",
    "data.select([count(when((data[c].isNull()), c)).alias(c) for c in columnList]).show()"
   ]
  },
  {
   "cell_type": "markdown",
   "metadata": {},
   "source": [
    "###  missing data is only in PHA_FRM_LIB. <br>\n",
    "=> Goood news"
   ]
  },
  {
   "cell_type": "markdown",
   "metadata": {},
   "source": [
    "## dosage unity by form of drug"
   ]
  },
  {
   "cell_type": "code",
   "execution_count": 97,
   "metadata": {
    "scrolled": true
   },
   "outputs": [
    {
     "name": "stdout",
     "output_type": "stream",
     "text": [
      "Number of  COMPRIME   3848\n",
      "We have the following units :\n",
      "+----------------+-----+\n",
      "|PHA_DOS_UNT_DSES|count|\n",
      "+----------------+-----+\n",
      "|       MG/2,5 MG|    1|\n",
      "|           MG/MG|  911|\n",
      "|              MG| 2932|\n",
      "|               G|    2|\n",
      "|        MG/MG/MG|    2|\n",
      "+----------------+-----+\n",
      "\n",
      "Number of  1400   0\n",
      "We have the following units :\n",
      "+----------------+-----+\n",
      "|PHA_DOS_UNT_DSES|count|\n",
      "+----------------+-----+\n",
      "+----------------+-----+\n",
      "\n",
      "Number of  GELULE   461\n",
      "We have the following units :\n",
      "+----------------+-----+\n",
      "|PHA_DOS_UNT_DSES|count|\n",
      "+----------------+-----+\n",
      "|           MG/MG|    6|\n",
      "|              MG|  455|\n",
      "+----------------+-----+\n",
      "\n",
      "Number of  SOLUTION   94\n",
      "We have the following units :\n",
      "+----------------+-----+\n",
      "|PHA_DOS_UNT_DSES|count|\n",
      "+----------------+-----+\n",
      "|        MG/10 ML|    2|\n",
      "|           MG/ML|   41|\n",
      "|         MG/5 ML|    9|\n",
      "|        G/100 ML|   16|\n",
      "|         MG/2 ML|    9|\n",
      "|              MG|    1|\n",
      "|          G/5 ML|    1|\n",
      "|         G/10 ML|    1|\n",
      "|               %|    1|\n",
      "|         MG/1 ML|    9|\n",
      "|         MG/4 ML|    4|\n",
      "+----------------+-----+\n",
      "\n",
      "Number of  CAPSULE MOLLE   12\n",
      "We have the following units :\n",
      "+----------------+-----+\n",
      "|PHA_DOS_UNT_DSES|count|\n",
      "+----------------+-----+\n",
      "|              MG|   12|\n",
      "+----------------+-----+\n",
      "\n",
      "Number of  SUSPENSION   11\n",
      "We have the following units :\n",
      "+----------------+-----+\n",
      "|PHA_DOS_UNT_DSES|count|\n",
      "+----------------+-----+\n",
      "|        MG/10 ML|    1|\n",
      "|           MG/ML|    1|\n",
      "|              MG|    9|\n",
      "+----------------+-----+\n",
      "\n",
      "Number of  POUDRE   7\n",
      "We have the following units :\n",
      "+----------------+-----+\n",
      "|PHA_DOS_UNT_DSES|count|\n",
      "+----------------+-----+\n",
      "|         MG/2 ML|    3|\n",
      "|              MG|    4|\n",
      "+----------------+-----+\n",
      "\n",
      "Number of  SIROP   4\n",
      "We have the following units :\n",
      "+----------------+-----+\n",
      "|PHA_DOS_UNT_DSES|count|\n",
      "+----------------+-----+\n",
      "|         MG/5 ML|    2|\n",
      "|        G/100 ML|    1|\n",
      "|         G/15 ML|    1|\n",
      "+----------------+-----+\n",
      "\n",
      "Number of  LYOPHILISAT   2\n",
      "We have the following units :\n",
      "+----------------+-----+\n",
      "|PHA_DOS_UNT_DSES|count|\n",
      "+----------------+-----+\n",
      "|              MG|    2|\n",
      "+----------------+-----+\n",
      "\n"
     ]
    }
   ],
   "source": [
    "listForms = [\"COMPRIME\", \"1400\", \"GELULE\", \"SOLUTION\", \"CAPSULE MOLLE\", \"SUSPENSION\", \"POUDRE\", \"SIROP\", \"LYOPHILISAT\"]\n",
    "for form in listForms:\n",
    "    df = data.filter(data.PHA_FRM_LIB == form)\n",
    "    print(\"Number of \",form, \" \",df.count() )\n",
    "    print(\"We have the following units :\")\n",
    "    df.groupby(\"PHA_DOS_UNT_DSES\").count().show()\n",
    "    "
   ]
  },
  {
   "cell_type": "markdown",
   "metadata": {},
   "source": [
    "## Missing data Investigation\n",
    "We have 1400 drugs without a form"
   ]
  },
  {
   "cell_type": "code",
   "execution_count": 93,
   "metadata": {
    "collapsed": true
   },
   "outputs": [],
   "source": [
    "dataMissing = data.filter(data.PHA_FRM_LIB.isNull()).select(columnList)"
   ]
  },
  {
   "cell_type": "code",
   "execution_count": 94,
   "metadata": {},
   "outputs": [
    {
     "data": {
      "text/html": [
       "<div>\n",
       "<style>\n",
       "    .dataframe thead tr:only-child th {\n",
       "        text-align: right;\n",
       "    }\n",
       "\n",
       "    .dataframe thead th {\n",
       "        text-align: left;\n",
       "    }\n",
       "\n",
       "    .dataframe tbody tr th {\n",
       "        vertical-align: top;\n",
       "    }\n",
       "</style>\n",
       "<table border=\"1\" class=\"dataframe\">\n",
       "  <thead>\n",
       "    <tr style=\"text-align: right;\">\n",
       "      <th></th>\n",
       "      <th>PHA_MED_NOM</th>\n",
       "      <th>PHA_NOM_PA</th>\n",
       "      <th>PHA_CIP_C13</th>\n",
       "      <th>PHA_ATC_L03</th>\n",
       "      <th>PHA_FRM_LIB</th>\n",
       "      <th>PHA_DOS_PRA_DSES</th>\n",
       "      <th>PHA_DOS_UNT_DSES</th>\n",
       "      <th>PHA_UNT_NBR_DSES</th>\n",
       "      <th>PHA_CND_TOP</th>\n",
       "    </tr>\n",
       "  </thead>\n",
       "  <tbody>\n",
       "    <tr>\n",
       "      <th>0</th>\n",
       "      <td>FLUOXETINE TEVA 20 MG/5 ML 1 FLACON DE 70 ML AVEC</td>\n",
       "      <td>FLUOXETINE</td>\n",
       "      <td>3400936238718</td>\n",
       "      <td>PSYCHOANALEPTIQUES</td>\n",
       "      <td>None</td>\n",
       "      <td>20</td>\n",
       "      <td>MG/5 ML</td>\n",
       "      <td>1/70 ML</td>\n",
       "      <td>NGC</td>\n",
       "    </tr>\n",
       "    <tr>\n",
       "      <th>1</th>\n",
       "      <td>SERTRALINE QUALIMED 50 MG 1 BOITE DE 28, COMPR...</td>\n",
       "      <td>SERTRALINE</td>\n",
       "      <td>3400936942912</td>\n",
       "      <td>PSYCHOANALEPTIQUES</td>\n",
       "      <td>None</td>\n",
       "      <td>50</td>\n",
       "      <td>MG</td>\n",
       "      <td>28</td>\n",
       "      <td>NGC</td>\n",
       "    </tr>\n",
       "    <tr>\n",
       "      <th>2</th>\n",
       "      <td>FLUOXETINE MYLAN 20 MG, 1 BOITE DE 14, GELULES EN</td>\n",
       "      <td>FLUOXETINE</td>\n",
       "      <td>3400935630407</td>\n",
       "      <td>PSYCHOANALEPTIQUES</td>\n",
       "      <td>None</td>\n",
       "      <td>20</td>\n",
       "      <td>MG</td>\n",
       "      <td>14</td>\n",
       "      <td>NGC</td>\n",
       "    </tr>\n",
       "    <tr>\n",
       "      <th>3</th>\n",
       "      <td>PAROXETINE PFIZER 20 MG 1 BOITE DE 28, COMPRIM...</td>\n",
       "      <td>PAROXETINE</td>\n",
       "      <td>3400941503573</td>\n",
       "      <td>PSYCHOANALEPTIQUES</td>\n",
       "      <td>None</td>\n",
       "      <td>20</td>\n",
       "      <td>MG</td>\n",
       "      <td>28</td>\n",
       "      <td>NGC</td>\n",
       "    </tr>\n",
       "    <tr>\n",
       "      <th>4</th>\n",
       "      <td>PAROXETINE EVOLUGEN 20 MG 1 BOITE DE 14, COMPR...</td>\n",
       "      <td>PAROXETINE</td>\n",
       "      <td>3400937427135</td>\n",
       "      <td>PSYCHOANALEPTIQUES</td>\n",
       "      <td>None</td>\n",
       "      <td>20</td>\n",
       "      <td>MG</td>\n",
       "      <td>14</td>\n",
       "      <td>NGC</td>\n",
       "    </tr>\n",
       "  </tbody>\n",
       "</table>\n",
       "</div>"
      ],
      "text/plain": [
       "                                         PHA_MED_NOM  PHA_NOM_PA  \\\n",
       "0  FLUOXETINE TEVA 20 MG/5 ML 1 FLACON DE 70 ML AVEC  FLUOXETINE   \n",
       "1  SERTRALINE QUALIMED 50 MG 1 BOITE DE 28, COMPR...  SERTRALINE   \n",
       "2  FLUOXETINE MYLAN 20 MG, 1 BOITE DE 14, GELULES EN  FLUOXETINE   \n",
       "3  PAROXETINE PFIZER 20 MG 1 BOITE DE 28, COMPRIM...  PAROXETINE   \n",
       "4  PAROXETINE EVOLUGEN 20 MG 1 BOITE DE 14, COMPR...  PAROXETINE   \n",
       "\n",
       "     PHA_CIP_C13         PHA_ATC_L03 PHA_FRM_LIB PHA_DOS_PRA_DSES  \\\n",
       "0  3400936238718  PSYCHOANALEPTIQUES        None               20   \n",
       "1  3400936942912  PSYCHOANALEPTIQUES        None               50   \n",
       "2  3400935630407  PSYCHOANALEPTIQUES        None               20   \n",
       "3  3400941503573  PSYCHOANALEPTIQUES        None               20   \n",
       "4  3400937427135  PSYCHOANALEPTIQUES        None               20   \n",
       "\n",
       "  PHA_DOS_UNT_DSES PHA_UNT_NBR_DSES PHA_CND_TOP  \n",
       "0          MG/5 ML          1/70 ML         NGC  \n",
       "1               MG               28         NGC  \n",
       "2               MG               14         NGC  \n",
       "3               MG               28         NGC  \n",
       "4               MG               14         NGC  "
      ]
     },
     "execution_count": 94,
     "metadata": {},
     "output_type": "execute_result"
    }
   ],
   "source": [
    "pd.DataFrame(data = dataMissing.head(5), columns = columnList)"
   ]
  },
  {
   "cell_type": "code",
   "execution_count": 98,
   "metadata": {},
   "outputs": [
    {
     "name": "stdout",
     "output_type": "stream",
     "text": [
      "+----------------+-----+\n",
      "|PHA_DOS_UNT_DSES|count|\n",
      "+----------------+-----+\n",
      "|              MG| 1128|\n",
      "|           MG/MG|  252|\n",
      "|           MG/ML|   10|\n",
      "|         MG/5 ML|    4|\n",
      "|         MG/2 ML|    4|\n",
      "|        MG/MG/MG|    1|\n",
      "|               %|    1|\n",
      "+----------------+-----+\n",
      "\n"
     ]
    }
   ],
   "source": [
    "dataMissing.groupBy(\"PHA_DOS_UNT_DSES\").count().orderBy(desc(\"count\")).show()"
   ]
  },
  {
   "cell_type": "code",
   "execution_count": 103,
   "metadata": {},
   "outputs": [
    {
     "data": {
      "text/html": [
       "<div>\n",
       "<style>\n",
       "    .dataframe thead tr:only-child th {\n",
       "        text-align: right;\n",
       "    }\n",
       "\n",
       "    .dataframe thead th {\n",
       "        text-align: left;\n",
       "    }\n",
       "\n",
       "    .dataframe tbody tr th {\n",
       "        vertical-align: top;\n",
       "    }\n",
       "</style>\n",
       "<table border=\"1\" class=\"dataframe\">\n",
       "  <thead>\n",
       "    <tr style=\"text-align: right;\">\n",
       "      <th></th>\n",
       "      <th>PHA_MED_NOM</th>\n",
       "      <th>PHA_NOM_PA</th>\n",
       "      <th>PHA_CIP_C13</th>\n",
       "      <th>PHA_ATC_L03</th>\n",
       "      <th>PHA_FRM_LIB</th>\n",
       "      <th>PHA_DOS_PRA_DSES</th>\n",
       "      <th>PHA_DOS_UNT_DSES</th>\n",
       "      <th>PHA_UNT_NBR_DSES</th>\n",
       "      <th>PHA_CND_TOP</th>\n",
       "    </tr>\n",
       "  </thead>\n",
       "  <tbody>\n",
       "    <tr>\n",
       "      <th>0</th>\n",
       "      <td>SULPIRIDE GENEVAR 0,5 POUR CENT (SULPIRIDE) 1 ...</td>\n",
       "      <td>SULPIRIDE</td>\n",
       "      <td>3400933651855</td>\n",
       "      <td>PSYCHOLEPTIQUES</td>\n",
       "      <td>None</td>\n",
       "      <td>0,5</td>\n",
       "      <td>%</td>\n",
       "      <td>1/200 ML</td>\n",
       "      <td>NGC</td>\n",
       "    </tr>\n",
       "  </tbody>\n",
       "</table>\n",
       "</div>"
      ],
      "text/plain": [
       "                                         PHA_MED_NOM PHA_NOM_PA  \\\n",
       "0  SULPIRIDE GENEVAR 0,5 POUR CENT (SULPIRIDE) 1 ...  SULPIRIDE   \n",
       "\n",
       "     PHA_CIP_C13      PHA_ATC_L03 PHA_FRM_LIB PHA_DOS_PRA_DSES  \\\n",
       "0  3400933651855  PSYCHOLEPTIQUES        None              0,5   \n",
       "\n",
       "  PHA_DOS_UNT_DSES PHA_UNT_NBR_DSES PHA_CND_TOP  \n",
       "0                %         1/200 ML         NGC  "
      ]
     },
     "execution_count": 103,
     "metadata": {},
     "output_type": "execute_result"
    }
   ],
   "source": [
    "df = dataMissing.filter(dataMissing.PHA_DOS_UNT_DSES == \"%\")\n",
    "pd.DataFrame(data=df.head(1), columns = columnList)"
   ]
  },
  {
   "cell_type": "markdown",
   "metadata": {},
   "source": [
    "## Dosage calculus"
   ]
  },
  {
   "cell_type": "markdown",
   "metadata": {},
   "source": [
    "## Interesting columns\n",
    "\n",
    "- PHA_NOM_PA  : List of the main molecules contained in the drug \n",
    "- PHA_DOS_PRA_DSES (n) :  Quantity of PHA_NOM_PA per drug dose \n",
    "- PHA_DOS_UNT_DSES (u) : Unity of a dose \n",
    "- PHA_UNT_NBR_DSES (b) : The number of doses contained in the drug \n",
    "\n",
    "=> The idea is to use these columns to add a column dosage in mg for each drug. The column dosage contains the overall quantity of each molecule listed in PHA_NOM_PA\n"
   ]
  },
  {
   "cell_type": "code",
   "execution_count": 224,
   "metadata": {},
   "outputs": [],
   "source": [
    "mapUnities = {\"MG\":  1, \"G\": 1000, \"ML\": 1, \"L\": 1000, \"%\": 0.01}\n",
    "single_unities = [\"MG\", \"G\", \"ML\", \"L\"]\n",
    "\n",
    "def parse_PHA_DOS_UNT_DSES(unity):\n",
    "    c = unity.count('/')\n",
    "    parts = unity.split(\"/\",c)\n",
    "    if(c == 0):\n",
    "        return mapUnities[parts[0]]\n",
    "    elif ((c == 1) & (\" \" in parts[1])):\n",
    "            (y, b) = parts[1].split(\" \",1)\n",
    "            print(y)\n",
    "            unity = mapUnities[b]\n",
    "            y = int(y) * unity\n",
    "            x = mapUnities[parts[0]]\n",
    "            return (x, y)\n",
    "    else:\n",
    "        mappedParts = map(lambda x: mapUnities[x], parts)\n",
    "        return  list(mappedParts)\n",
    "\n",
    "\n",
    "def parse_PHA_UNT_NBR_DSES(qte):\n",
    "    c = qte.count('/')\n",
    "    if(c == 0):\n",
    "        return float(qte)\n",
    "    else:\n",
    "        parts = qte.split(\"/\", c)\n",
    "        x = int(parts[0])\n",
    "        y = 1\n",
    "        if(\" \" in parts[1]):\n",
    "            (y, b) = parts[1].split(\" \")\n",
    "            unity = mapUnities[b]\n",
    "            y = int(y) * unity\n",
    "    return (x, y)\n",
    "    \n",
    "def parse_PHA_DOS_PRA_DSES(nbr):\n",
    "    c = nbr.count('/')\n",
    "    parts = map(lambda x: x.replace(',', '.'), nbr.split(\"/\",c))\n",
    "    return list(map(lambda x: float(x), parts))\n",
    "\n",
    "\n",
    "def split_str(dose, unity, qte):\n",
    "   \n",
    "    doses = parse_PHA_DOS_PRA_DSES(dose)\n",
    "    unities = parse_PHA_DOS_UNT_DSES(unity)\n",
    "    qtes = parse_PHA_UNT_NBR_DSES(qte)\n",
    "    print(doses)\n",
    "    print(unities)\n",
    "    print(qtes)\n",
    "    if(unity in single_unities):\n",
    "        return int(dose) * int(qte) * mapUnities[unity]\n",
    "    elif(unity == \"MG/MG\" or unity == \"MG/MG/MG\"):\n",
    "        res = list()\n",
    "        for x,y in zip(doses,unities):\n",
    "            res.append(x * y * qtes)\n",
    "        return \" \".join(str(x) for x in res)\n",
    "\n",
    "    elif(unity == \"%\"):\n",
    "        return doses[0] * qtes[1] * unities / qtes[0]\n",
    "    else:\n",
    "        dose = dose.replace(',', '.')\n",
    "        (z, w) = parse_PHA_DOS_UNT_DSES(unity)\n",
    "        (a, b) = parse_PHA_UNT_NBR_DSES(qte)\n",
    "        return float(dose) * int(z) * int(a) * int(b)/int(w)\n",
    "\n",
    "dosage_udf = udf(lambda dose, unity, qte : split_str(dose, unity, qte))"
   ]
  },
  {
   "cell_type": "code",
   "execution_count": 225,
   "metadata": {},
   "outputs": [
    {
     "data": {
      "text/html": [
       "<div>\n",
       "<style>\n",
       "    .dataframe thead tr:only-child th {\n",
       "        text-align: right;\n",
       "    }\n",
       "\n",
       "    .dataframe thead th {\n",
       "        text-align: left;\n",
       "    }\n",
       "\n",
       "    .dataframe tbody tr th {\n",
       "        vertical-align: top;\n",
       "    }\n",
       "</style>\n",
       "<table border=\"1\" class=\"dataframe\">\n",
       "  <thead>\n",
       "    <tr style=\"text-align: right;\">\n",
       "      <th></th>\n",
       "      <th>PHA_MED_NOM</th>\n",
       "      <th>PHA_NOM_PA</th>\n",
       "      <th>PHA_CIP_C13</th>\n",
       "      <th>PHA_ATC_L03</th>\n",
       "      <th>PHA_FRM_LIB</th>\n",
       "      <th>PHA_DOS_PRA_DSES</th>\n",
       "      <th>PHA_DOS_UNT_DSES</th>\n",
       "      <th>PHA_UNT_NBR_DSES</th>\n",
       "      <th>PHA_CND_TOP</th>\n",
       "      <th>dosage</th>\n",
       "    </tr>\n",
       "  </thead>\n",
       "  <tbody>\n",
       "    <tr>\n",
       "      <th>0</th>\n",
       "      <td>FLUOXETINE TEVA 20 MG/5 ML 1 FLACON DE 70 ML AVEC</td>\n",
       "      <td>FLUOXETINE</td>\n",
       "      <td>3400936238718</td>\n",
       "      <td>PSYCHOANALEPTIQUES</td>\n",
       "      <td>None</td>\n",
       "      <td>20</td>\n",
       "      <td>MG/5 ML</td>\n",
       "      <td>1/70 ML</td>\n",
       "      <td>NGC</td>\n",
       "      <td>280.0</td>\n",
       "    </tr>\n",
       "    <tr>\n",
       "      <th>1</th>\n",
       "      <td>SERTRALINE QUALIMED 50 MG 1 BOITE DE 28, COMPR...</td>\n",
       "      <td>SERTRALINE</td>\n",
       "      <td>3400936942912</td>\n",
       "      <td>PSYCHOANALEPTIQUES</td>\n",
       "      <td>None</td>\n",
       "      <td>50</td>\n",
       "      <td>MG</td>\n",
       "      <td>28</td>\n",
       "      <td>NGC</td>\n",
       "      <td>1400</td>\n",
       "    </tr>\n",
       "    <tr>\n",
       "      <th>2</th>\n",
       "      <td>FLUOXETINE MYLAN 20 MG, 1 BOITE DE 14, GELULES EN</td>\n",
       "      <td>FLUOXETINE</td>\n",
       "      <td>3400935630407</td>\n",
       "      <td>PSYCHOANALEPTIQUES</td>\n",
       "      <td>None</td>\n",
       "      <td>20</td>\n",
       "      <td>MG</td>\n",
       "      <td>14</td>\n",
       "      <td>NGC</td>\n",
       "      <td>280</td>\n",
       "    </tr>\n",
       "    <tr>\n",
       "      <th>3</th>\n",
       "      <td>PAROXETINE PFIZER 20 MG 1 BOITE DE 28, COMPRIM...</td>\n",
       "      <td>PAROXETINE</td>\n",
       "      <td>3400941503573</td>\n",
       "      <td>PSYCHOANALEPTIQUES</td>\n",
       "      <td>None</td>\n",
       "      <td>20</td>\n",
       "      <td>MG</td>\n",
       "      <td>28</td>\n",
       "      <td>NGC</td>\n",
       "      <td>560</td>\n",
       "    </tr>\n",
       "    <tr>\n",
       "      <th>4</th>\n",
       "      <td>PAROXETINE EVOLUGEN 20 MG 1 BOITE DE 14, COMPR...</td>\n",
       "      <td>PAROXETINE</td>\n",
       "      <td>3400937427135</td>\n",
       "      <td>PSYCHOANALEPTIQUES</td>\n",
       "      <td>None</td>\n",
       "      <td>20</td>\n",
       "      <td>MG</td>\n",
       "      <td>14</td>\n",
       "      <td>NGC</td>\n",
       "      <td>280</td>\n",
       "    </tr>\n",
       "    <tr>\n",
       "      <th>5</th>\n",
       "      <td>VENLAFAXINE ALMUS 50 MG 1 BOITE DE 30, COMPRIMES</td>\n",
       "      <td>VENLAFAXINE</td>\n",
       "      <td>3400938832532</td>\n",
       "      <td>PSYCHOANALEPTIQUES</td>\n",
       "      <td>None</td>\n",
       "      <td>50</td>\n",
       "      <td>MG</td>\n",
       "      <td>30</td>\n",
       "      <td>NGC</td>\n",
       "      <td>1500</td>\n",
       "    </tr>\n",
       "    <tr>\n",
       "      <th>6</th>\n",
       "      <td>FLUOXETINE RANBAXY 20 MG 1 BOITE DE 28, COMPRIMES</td>\n",
       "      <td>FLUOXETINE</td>\n",
       "      <td>3400938071573</td>\n",
       "      <td>PSYCHOANALEPTIQUES</td>\n",
       "      <td>None</td>\n",
       "      <td>20</td>\n",
       "      <td>MG</td>\n",
       "      <td>28</td>\n",
       "      <td>NGC</td>\n",
       "      <td>560</td>\n",
       "    </tr>\n",
       "    <tr>\n",
       "      <th>7</th>\n",
       "      <td>VENLAFAXINE MYLAN 25 MG 1 BOITE DE 30, COMPRIMES</td>\n",
       "      <td>VENLAFAXINE</td>\n",
       "      <td>3400938534306</td>\n",
       "      <td>PSYCHOANALEPTIQUES</td>\n",
       "      <td>None</td>\n",
       "      <td>25</td>\n",
       "      <td>MG</td>\n",
       "      <td>30</td>\n",
       "      <td>NGC</td>\n",
       "      <td>750</td>\n",
       "    </tr>\n",
       "    <tr>\n",
       "      <th>8</th>\n",
       "      <td>MIANSERINE QUALIMED 10 MG 1 BOITE DE 30, COMPR...</td>\n",
       "      <td>MIANSERINE</td>\n",
       "      <td>3400935766281</td>\n",
       "      <td>PSYCHOANALEPTIQUES</td>\n",
       "      <td>None</td>\n",
       "      <td>10</td>\n",
       "      <td>MG</td>\n",
       "      <td>30</td>\n",
       "      <td>NGC</td>\n",
       "      <td>300</td>\n",
       "    </tr>\n",
       "    <tr>\n",
       "      <th>9</th>\n",
       "      <td>VENLAFAXINE ACTAVIS 50 MG 1 BOITE DE 30, COMPR...</td>\n",
       "      <td>VENLAFAXINE</td>\n",
       "      <td>3400938537666</td>\n",
       "      <td>PSYCHOANALEPTIQUES</td>\n",
       "      <td>None</td>\n",
       "      <td>50</td>\n",
       "      <td>MG</td>\n",
       "      <td>30</td>\n",
       "      <td>NGC</td>\n",
       "      <td>1500</td>\n",
       "    </tr>\n",
       "  </tbody>\n",
       "</table>\n",
       "</div>"
      ],
      "text/plain": [
       "                                         PHA_MED_NOM   PHA_NOM_PA  \\\n",
       "0  FLUOXETINE TEVA 20 MG/5 ML 1 FLACON DE 70 ML AVEC   FLUOXETINE   \n",
       "1  SERTRALINE QUALIMED 50 MG 1 BOITE DE 28, COMPR...   SERTRALINE   \n",
       "2  FLUOXETINE MYLAN 20 MG, 1 BOITE DE 14, GELULES EN   FLUOXETINE   \n",
       "3  PAROXETINE PFIZER 20 MG 1 BOITE DE 28, COMPRIM...   PAROXETINE   \n",
       "4  PAROXETINE EVOLUGEN 20 MG 1 BOITE DE 14, COMPR...   PAROXETINE   \n",
       "5   VENLAFAXINE ALMUS 50 MG 1 BOITE DE 30, COMPRIMES  VENLAFAXINE   \n",
       "6  FLUOXETINE RANBAXY 20 MG 1 BOITE DE 28, COMPRIMES   FLUOXETINE   \n",
       "7   VENLAFAXINE MYLAN 25 MG 1 BOITE DE 30, COMPRIMES  VENLAFAXINE   \n",
       "8  MIANSERINE QUALIMED 10 MG 1 BOITE DE 30, COMPR...   MIANSERINE   \n",
       "9  VENLAFAXINE ACTAVIS 50 MG 1 BOITE DE 30, COMPR...  VENLAFAXINE   \n",
       "\n",
       "     PHA_CIP_C13         PHA_ATC_L03 PHA_FRM_LIB PHA_DOS_PRA_DSES  \\\n",
       "0  3400936238718  PSYCHOANALEPTIQUES        None               20   \n",
       "1  3400936942912  PSYCHOANALEPTIQUES        None               50   \n",
       "2  3400935630407  PSYCHOANALEPTIQUES        None               20   \n",
       "3  3400941503573  PSYCHOANALEPTIQUES        None               20   \n",
       "4  3400937427135  PSYCHOANALEPTIQUES        None               20   \n",
       "5  3400938832532  PSYCHOANALEPTIQUES        None               50   \n",
       "6  3400938071573  PSYCHOANALEPTIQUES        None               20   \n",
       "7  3400938534306  PSYCHOANALEPTIQUES        None               25   \n",
       "8  3400935766281  PSYCHOANALEPTIQUES        None               10   \n",
       "9  3400938537666  PSYCHOANALEPTIQUES        None               50   \n",
       "\n",
       "  PHA_DOS_UNT_DSES PHA_UNT_NBR_DSES PHA_CND_TOP dosage  \n",
       "0          MG/5 ML          1/70 ML         NGC  280.0  \n",
       "1               MG               28         NGC   1400  \n",
       "2               MG               14         NGC    280  \n",
       "3               MG               28         NGC    560  \n",
       "4               MG               14         NGC    280  \n",
       "5               MG               30         NGC   1500  \n",
       "6               MG               28         NGC    560  \n",
       "7               MG               30         NGC    750  \n",
       "8               MG               30         NGC    300  \n",
       "9               MG               30         NGC   1500  "
      ]
     },
     "execution_count": 225,
     "metadata": {},
     "output_type": "execute_result"
    }
   ],
   "source": [
    "listFiltered = dataMissing.select(columnList)\n",
    "df = listFiltered.withColumn(\"dosage\", dosage_udf(listFiltered.PHA_DOS_PRA_DSES, listFiltered.PHA_DOS_UNT_DSES, listFiltered.PHA_UNT_NBR_DSES))\n",
    "pd.DataFrame(data = df.head(10), columns = df.columns)"
   ]
  },
  {
   "cell_type": "code",
   "execution_count": 112,
   "metadata": {},
   "outputs": [
    {
     "data": {
      "text/html": [
       "<div>\n",
       "<style>\n",
       "    .dataframe thead tr:only-child th {\n",
       "        text-align: right;\n",
       "    }\n",
       "\n",
       "    .dataframe thead th {\n",
       "        text-align: left;\n",
       "    }\n",
       "\n",
       "    .dataframe tbody tr th {\n",
       "        vertical-align: top;\n",
       "    }\n",
       "</style>\n",
       "<table border=\"1\" class=\"dataframe\">\n",
       "  <thead>\n",
       "    <tr style=\"text-align: right;\">\n",
       "      <th></th>\n",
       "      <th>PHA_MED_NOM</th>\n",
       "      <th>PHA_NOM_PA</th>\n",
       "      <th>PHA_CIP_C13</th>\n",
       "      <th>PHA_ATC_L03</th>\n",
       "      <th>PHA_FRM_LIB</th>\n",
       "      <th>PHA_DOS_PRA_DSES</th>\n",
       "      <th>PHA_DOS_UNT_DSES</th>\n",
       "      <th>PHA_UNT_NBR_DSES</th>\n",
       "      <th>PHA_CND_TOP</th>\n",
       "    </tr>\n",
       "  </thead>\n",
       "  <tbody>\n",
       "    <tr>\n",
       "      <th>0</th>\n",
       "      <td>CAPTOPRIL/HYDROCHLOROTHIAZIDE ZENTIVA 50 MG/25 MG</td>\n",
       "      <td>CAPTOPRIL + HYDROCHLOROTHIAZIDE</td>\n",
       "      <td>3400938370171</td>\n",
       "      <td>MEDICAMENTS AGISSANT SUR LE SYSTEME RENINE-ANG...</td>\n",
       "      <td>None</td>\n",
       "      <td>50/25</td>\n",
       "      <td>MG/MG</td>\n",
       "      <td>90</td>\n",
       "      <td>GC</td>\n",
       "    </tr>\n",
       "  </tbody>\n",
       "</table>\n",
       "</div>"
      ],
      "text/plain": [
       "                                         PHA_MED_NOM  \\\n",
       "0  CAPTOPRIL/HYDROCHLOROTHIAZIDE ZENTIVA 50 MG/25 MG   \n",
       "\n",
       "                        PHA_NOM_PA    PHA_CIP_C13  \\\n",
       "0  CAPTOPRIL + HYDROCHLOROTHIAZIDE  3400938370171   \n",
       "\n",
       "                                         PHA_ATC_L03 PHA_FRM_LIB  \\\n",
       "0  MEDICAMENTS AGISSANT SUR LE SYSTEME RENINE-ANG...        None   \n",
       "\n",
       "  PHA_DOS_PRA_DSES PHA_DOS_UNT_DSES PHA_UNT_NBR_DSES PHA_CND_TOP  \n",
       "0            50/25            MG/MG               90          GC  "
      ]
     },
     "execution_count": 112,
     "metadata": {},
     "output_type": "execute_result"
    }
   ],
   "source": [
    "df = dataMissing.filter(dataMissing.PHA_DOS_UNT_DSES == \"MG/MG\")\n",
    "pd.DataFrame(data=df.head(1), columns = columnList)"
   ]
  },
  {
   "cell_type": "code",
   "execution_count": 218,
   "metadata": {},
   "outputs": [
    {
     "name": "stdout",
     "output_type": "stream",
     "text": [
      "[50.0, 25.0]\n",
      "[1, 1]\n",
      "90.0\n"
     ]
    },
    {
     "data": {
      "text/plain": [
       "'4500.0 2250.0'"
      ]
     },
     "execution_count": 218,
     "metadata": {},
     "output_type": "execute_result"
    }
   ],
   "source": [
    "split_str(\"50/25\", \"MG/MG\",\"90\")\n"
   ]
  },
  {
   "cell_type": "code",
   "execution_count": 210,
   "metadata": {},
   "outputs": [
    {
     "name": "stdout",
     "output_type": "stream",
     "text": [
      "[0.5]\n",
      "0.01\n",
      "(1, 200)\n"
     ]
    },
    {
     "data": {
      "text/plain": [
       "1.0"
      ]
     },
     "execution_count": 210,
     "metadata": {},
     "output_type": "execute_result"
    }
   ],
   "source": [
    "split_str(\"0,5\", \"%\",\"1/200 ML\")\n"
   ]
  },
  {
   "cell_type": "code",
   "execution_count": 211,
   "metadata": {},
   "outputs": [
    {
     "name": "stdout",
     "output_type": "stream",
     "text": [
      "5\n",
      "[20.0]\n",
      "(1, 5)\n",
      "(1, 70)\n",
      "5\n"
     ]
    },
    {
     "data": {
      "text/plain": [
       "280.0"
      ]
     },
     "execution_count": 211,
     "metadata": {},
     "output_type": "execute_result"
    }
   ],
   "source": [
    "split_str(\"20\", \"MG/5 ML\", \"1/70 ML\")"
   ]
  }
 ],
 "metadata": {
  "kernelspec": {
   "display_name": "Python 3",
   "language": "python",
   "name": "python3"
  },
  "language_info": {
   "codemirror_mode": {
    "name": "ipython",
    "version": 3
   },
   "file_extension": ".py",
   "mimetype": "text/x-python",
   "name": "python",
   "nbconvert_exporter": "python",
   "pygments_lexer": "ipython3",
   "version": "3.6.1"
  }
 },
 "nbformat": 4,
 "nbformat_minor": 2
}
