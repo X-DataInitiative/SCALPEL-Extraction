{
 "cells": [
  {
   "cell_type": "code",
   "execution_count": 1,
   "metadata": {},
   "outputs": [],
   "source": [
    "%config Completer.use_jedi=False"
   ]
  },
  {
   "cell_type": "markdown",
   "metadata": {},
   "source": [
    "## Read the IRPHAR table"
   ]
  },
  {
   "cell_type": "code",
   "execution_count": 2,
   "metadata": {},
   "outputs": [],
   "source": [
    "import pandas as pd"
   ]
  },
  {
   "cell_type": "code",
   "execution_count": 4,
   "metadata": {},
   "outputs": [
    {
     "data": {
      "text/html": [
       "<div>\n",
       "<table border=\"1\" class=\"dataframe\">\n",
       "  <thead>\n",
       "    <tr style=\"text-align: right;\">\n",
       "      <th></th>\n",
       "      <th>PHA_CIP_C13</th>\n",
       "      <th>PHA_RGE_C13</th>\n",
       "      <th>PHA_MED_IMG</th>\n",
       "      <th>PHA_MED_NAT</th>\n",
       "      <th>PHA_MED_GEN_DPROD</th>\n",
       "      <th>PHA_DOS_PRA_DSES</th>\n",
       "      <th>PHA_PRD_LIB2</th>\n",
       "      <th>PHA_PPC_IND</th>\n",
       "      <th>PHA_MEX_IND</th>\n",
       "      <th>PHA_DOS_UNT_DSES</th>\n",
       "      <th>...</th>\n",
       "      <th>PHA_HTA_TOP</th>\n",
       "      <th>PHA_PRI_UND</th>\n",
       "      <th>PHA_EPH_COD</th>\n",
       "      <th>PHA_ATC_C07</th>\n",
       "      <th>PHA_ATC_C03</th>\n",
       "      <th>PHA_MED_NOM</th>\n",
       "      <th>PHA_EPH_LIB_DSES</th>\n",
       "      <th>PHA_PRS_IDE</th>\n",
       "      <th>PHA_ATC_L03</th>\n",
       "      <th>PHA_ATC_L07</th>\n",
       "    </tr>\n",
       "  </thead>\n",
       "  <tbody>\n",
       "    <tr>\n",
       "      <th>0</th>\n",
       "      <td>3400931467731</td>\n",
       "      <td>NaN</td>\n",
       "      <td>0</td>\n",
       "      <td>A</td>\n",
       "      <td>NaN</td>\n",
       "      <td>ND</td>\n",
       "      <td>NaN</td>\n",
       "      <td>**</td>\n",
       "      <td>N</td>\n",
       "      <td>ND</td>\n",
       "      <td>...</td>\n",
       "      <td>2</td>\n",
       "      <td>129</td>\n",
       "      <td>C05A2</td>\n",
       "      <td>WHOMEO</td>\n",
       "      <td>W99</td>\n",
       "      <td>AESCULUS COMP BOIR POM TB 20G  1</td>\n",
       "      <td>TOPIQUES ANTIHEMORROIDAIRES SANS CORTICOIDES</td>\n",
       "      <td>3146773</td>\n",
       "      <td>SPECIALITES HOMEOPATHIQUES</td>\n",
       "      <td>HOMEOPATHIE</td>\n",
       "    </tr>\n",
       "    <tr>\n",
       "      <th>1</th>\n",
       "      <td>3400934768491</td>\n",
       "      <td>NaN</td>\n",
       "      <td>0</td>\n",
       "      <td>A</td>\n",
       "      <td>NaN</td>\n",
       "      <td>2,5</td>\n",
       "      <td>NaN</td>\n",
       "      <td>NaN</td>\n",
       "      <td>N</td>\n",
       "      <td>G/100 G</td>\n",
       "      <td>...</td>\n",
       "      <td>2</td>\n",
       "      <td>461</td>\n",
       "      <td>C05A2</td>\n",
       "      <td>C05AX03</td>\n",
       "      <td>C05</td>\n",
       "      <td>TITANOREINE CREME 1/40 G</td>\n",
       "      <td>TOPIQUES ANTIHEMORROIDAIRES SANS CORTICOIDES</td>\n",
       "      <td>3476849</td>\n",
       "      <td>VASCULOPROTECTEURS</td>\n",
       "      <td>AUTRES PREPARATIONS EN ASSOCIATION</td>\n",
       "    </tr>\n",
       "    <tr>\n",
       "      <th>2</th>\n",
       "      <td>3400932300778</td>\n",
       "      <td>NaN</td>\n",
       "      <td>0</td>\n",
       "      <td>A</td>\n",
       "      <td>NaN</td>\n",
       "      <td>0,3</td>\n",
       "      <td>NaN</td>\n",
       "      <td>**</td>\n",
       "      <td>N</td>\n",
       "      <td>G</td>\n",
       "      <td>...</td>\n",
       "      <td>2</td>\n",
       "      <td>24</td>\n",
       "      <td>C05A2</td>\n",
       "      <td>C05AX03</td>\n",
       "      <td>C05</td>\n",
       "      <td>TITANOREINE SUPPO 12</td>\n",
       "      <td>TOPIQUES ANTIHEMORROIDAIRES SANS CORTICOIDES</td>\n",
       "      <td>3230077</td>\n",
       "      <td>VASCULOPROTECTEURS</td>\n",
       "      <td>AUTRES PREPARATIONS EN ASSOCIATION</td>\n",
       "    </tr>\n",
       "    <tr>\n",
       "      <th>3</th>\n",
       "      <td>3400931407249</td>\n",
       "      <td>NaN</td>\n",
       "      <td>0</td>\n",
       "      <td>A</td>\n",
       "      <td>NaN</td>\n",
       "      <td>5,8</td>\n",
       "      <td>NaN</td>\n",
       "      <td>**</td>\n",
       "      <td>N</td>\n",
       "      <td>G/100 G</td>\n",
       "      <td>...</td>\n",
       "      <td>2</td>\n",
       "      <td>344</td>\n",
       "      <td>C05A2</td>\n",
       "      <td>C05AX03</td>\n",
       "      <td>C05</td>\n",
       "      <td>PROCTOLOG CREME RECTALE 1/20 G</td>\n",
       "      <td>TOPIQUES ANTIHEMORROIDAIRES SANS CORTICOIDES</td>\n",
       "      <td>3140724</td>\n",
       "      <td>VASCULOPROTECTEURS</td>\n",
       "      <td>AUTRES PREPARATIONS EN ASSOCIATION</td>\n",
       "    </tr>\n",
       "    <tr>\n",
       "      <th>6</th>\n",
       "      <td>3400930895900</td>\n",
       "      <td>NaN</td>\n",
       "      <td>0</td>\n",
       "      <td>A</td>\n",
       "      <td>NaN</td>\n",
       "      <td>0,8</td>\n",
       "      <td>NaN</td>\n",
       "      <td>**</td>\n",
       "      <td>N</td>\n",
       "      <td>G/100 G</td>\n",
       "      <td>...</td>\n",
       "      <td>2</td>\n",
       "      <td>183</td>\n",
       "      <td>C05B</td>\n",
       "      <td>C05B</td>\n",
       "      <td>C05</td>\n",
       "      <td>CREME RAP CREME TUBE 105G  1/105 G</td>\n",
       "      <td>THERAPEUTIQUE ANTIVARICOSIQUE, A USAGE TOPIQUE</td>\n",
       "      <td>3089590</td>\n",
       "      <td>VASCULOPROTECTEURS</td>\n",
       "      <td>THERAPEUTIQUE ANTIVARIQUEUSE</td>\n",
       "    </tr>\n",
       "  </tbody>\n",
       "</table>\n",
       "<p>5 rows × 68 columns</p>\n",
       "</div>"
      ],
      "text/plain": [
       "     PHA_CIP_C13  PHA_RGE_C13  PHA_MED_IMG PHA_MED_NAT PHA_MED_GEN_DPROD  \\\n",
       "0  3400931467731          NaN            0           A               NaN   \n",
       "1  3400934768491          NaN            0           A               NaN   \n",
       "2  3400932300778          NaN            0           A               NaN   \n",
       "3  3400931407249          NaN            0           A               NaN   \n",
       "6  3400930895900          NaN            0           A               NaN   \n",
       "\n",
       "  PHA_DOS_PRA_DSES PHA_PRD_LIB2 PHA_PPC_IND PHA_MEX_IND PHA_DOS_UNT_DSES  \\\n",
       "0               ND          NaN          **           N               ND   \n",
       "1              2,5          NaN         NaN           N          G/100 G   \n",
       "2              0,3          NaN          **           N                G   \n",
       "3              5,8          NaN          **           N          G/100 G   \n",
       "6              0,8          NaN          **           N          G/100 G   \n",
       "\n",
       "                  ...                  PHA_HTA_TOP  PHA_PRI_UND PHA_EPH_COD  \\\n",
       "0                 ...                            2          129       C05A2   \n",
       "1                 ...                            2          461       C05A2   \n",
       "2                 ...                            2           24       C05A2   \n",
       "3                 ...                            2          344       C05A2   \n",
       "6                 ...                            2          183        C05B   \n",
       "\n",
       "   PHA_ATC_C07  PHA_ATC_C03                         PHA_MED_NOM  \\\n",
       "0       WHOMEO          W99    AESCULUS COMP BOIR POM TB 20G  1   \n",
       "1      C05AX03          C05            TITANOREINE CREME 1/40 G   \n",
       "2      C05AX03          C05                TITANOREINE SUPPO 12   \n",
       "3      C05AX03          C05      PROCTOLOG CREME RECTALE 1/20 G   \n",
       "6         C05B          C05  CREME RAP CREME TUBE 105G  1/105 G   \n",
       "\n",
       "                                 PHA_EPH_LIB_DSES  PHA_PRS_IDE  \\\n",
       "0    TOPIQUES ANTIHEMORROIDAIRES SANS CORTICOIDES      3146773   \n",
       "1    TOPIQUES ANTIHEMORROIDAIRES SANS CORTICOIDES      3476849   \n",
       "2    TOPIQUES ANTIHEMORROIDAIRES SANS CORTICOIDES      3230077   \n",
       "3    TOPIQUES ANTIHEMORROIDAIRES SANS CORTICOIDES      3140724   \n",
       "6  THERAPEUTIQUE ANTIVARICOSIQUE, A USAGE TOPIQUE      3089590   \n",
       "\n",
       "                  PHA_ATC_L03                         PHA_ATC_L07  \n",
       "0  SPECIALITES HOMEOPATHIQUES                         HOMEOPATHIE  \n",
       "1          VASCULOPROTECTEURS  AUTRES PREPARATIONS EN ASSOCIATION  \n",
       "2          VASCULOPROTECTEURS  AUTRES PREPARATIONS EN ASSOCIATION  \n",
       "3          VASCULOPROTECTEURS  AUTRES PREPARATIONS EN ASSOCIATION  \n",
       "6          VASCULOPROTECTEURS        THERAPEUTIQUE ANTIVARIQUEUSE  \n",
       "\n",
       "[5 rows x 68 columns]"
      ]
     },
     "execution_count": 4,
     "metadata": {},
     "output_type": "execute_result"
    }
   ],
   "source": [
    "ir_pha_r = pd.read_csv(\"/Users/youcefsebiat/IdeaProjects/SNIIRAM-flattening/src/main/resources/IR_PHA_R/IR_PHA_R.csv\", sep=\";\", index_col=\"Unnamed: 0\", na_values=\"NaN\")\n",
    "\n",
    "# Keep only the lines with PHA_NOM_PA\n",
    "ir_pha_r = ir_pha_r[ir_pha_r.PHA_NOM_PA.notnull()].copy()\n",
    "\n",
    "ir_pha_r.head()"
   ]
  },
  {
   "cell_type": "markdown",
   "metadata": {},
   "source": [
    "## Define Pharma Classes for the Fall Study"
   ]
  },
  {
   "cell_type": "code",
   "execution_count": 5,
   "metadata": {},
   "outputs": [],
   "source": [
    "from collections import namedtuple\n",
    "\n",
    "Pharma_mapping = namedtuple('Pharam_Mapping', ['Pharma_class', 'ATC_Codes', 'ATC_Exceptions', \"Therapeutic_class\"])"
   ]
  },
  {
   "cell_type": "code",
   "execution_count": 6,
   "metadata": {},
   "outputs": [],
   "source": [
    "fall_study_mappings = [\n",
    "    Pharma_mapping(\"Antidepresseurs_Tricycliques\", [\"N06AA\"], [\"N06AA06\"], \"Antidepresseurs\"),\n",
    "    Pharma_mapping(\"Antidepresseurs_ISRS\", [\"N06AB\"], None, \"Antidepresseurs\"),\n",
    "    Pharma_mapping(\"Antidepresseurs_ISRSN\", [\"N06AX11\", \"N06AX16\", \"N06AX17\", \"N06AX21\", \"N06AX26\"], None, \"Antidepresseurs\"),\n",
    "    Pharma_mapping(\"Antidepresseurs_IMAO_AB\", [\"N06AF\"], None, \"Antidepresseurs\"),\n",
    "    Pharma_mapping(\"Antidepresseurs_IMAO_A\", [\"N06AG\"], None, \"Antidepresseurs\"),\n",
    "    Pharma_mapping(\"Antidepresseurs_Autres\", [\"N06AX03\", \"N06AX09\", \"N06AX14\", \"N06AX22\", \"N06AA06\"], None, \"Antidepresseurs\"),\n",
    "    Pharma_mapping(\"Antihypertenseurs_SARTANS\", [\"C09C\", \"C09D\"], None, \"Antihypertenseurs\"),\n",
    "    Pharma_mapping(\"Antihypertenseurs_IEC\", [\"C09A\", \"C09B\"], None, \"Antihypertenseurs\"),\n",
    "    Pharma_mapping(\"Antihypertenseurs_Diuretiques\", [\"C03\"], None, \"Antihypertenseurs\"),\n",
    "    Pharma_mapping(\"Antihypertenseurs_Betabloquants\", [\"C07\"], None, \"Antihypertenseurs\"),\n",
    "    Pharma_mapping(\"Antihypertenseurs_Inhibiteurs_calciques\", [\"C08\"], None, \"Antihypertenseurs\"),\n",
    "    Pharma_mapping(\"Antihypertenseurs_Autres\", [\"C02\", \"C09XA\", \"C10BX03\"], None, \"Antihypertenseurs\"),\n",
    "    Pharma_mapping(\"Hypnotiques_Benzodiazepines_anxiolytiques\", [\"N05BA\"], None, \"Hypnotiques\"),\n",
    "    Pharma_mapping(\"Hypnotiques_Autres_anxiolytiques\", [\"N05BB\", \"N05BC\", \"N05BE\", \"N05BX\"], [\"N05BC51\"], \"Hypnotiques\"),\n",
    "    Pharma_mapping(\"Hypnotiques_Benzodiazepines_hypnotiques\", [\"N05CD\"], [\"N05CD08\"], \"Hypnotiques\"),\n",
    "    Pharma_mapping(\"Hypnotiques_Autres_hypnotiques\", [\"N05CF\", \"N05BC51\", \"N05CM11\", \"N05CM16\", \"N05CX\"], None, \"Hypnotiques\"),\n",
    "    Pharma_mapping(\"Neuroleptiques_Neuroleptiques_atypiques\", [\"N05A\"], [\"N05AL06\", \"N05AN01\", \"N05AA\", \"N05AH02\", \"N05AH03\", \"N05AL05\", \"N05AX08\", \"N05AX12\", \"N05AA07\"], \"Neuroleptiques\"),\n",
    "    Pharma_mapping(\"Neuroleptiques_Autres_neuroleptiques\", [\"N05AA\", \"N05AH02\", \"N05AH03\", \"N05AL05\", \"N05AX08\", \"N05AX12\"], None, \"Neuroleptiques\")\n",
    "]"
   ]
  },
  {
   "cell_type": "code",
   "execution_count": 7,
   "metadata": {},
   "outputs": [],
   "source": [
    "input_table = ir_pha_r[[\"PHA_ATC_C07\", \"PHA_CIP_C13\", \"PHA_NOM_PA\"]].copy()"
   ]
  },
  {
   "cell_type": "markdown",
   "metadata": {},
   "source": [
    "### Define pharma and thera finding classes"
   ]
  },
  {
   "cell_type": "code",
   "execution_count": 8,
   "metadata": {},
   "outputs": [],
   "source": [
    "def find_pharma_class(ATC_code: str, mappings) -> str:\n",
    "    for pharma_mapping in mappings:\n",
    "        found = any([ATC_code.startswith(atc_code) for atc_code in pharma_mapping.ATC_Codes])\n",
    "\n",
    "        if found:\n",
    "            exception = (pharma_mapping.ATC_Exceptions is not None) and any([ATC_code.startswith(atc_code) for atc_code in pharma_mapping.ATC_Exceptions])\n",
    "            if not exception:\n",
    "                return pharma_mapping.Pharma_class\n",
    "\n",
    "    return None"
   ]
  },
  {
   "cell_type": "code",
   "execution_count": 9,
   "metadata": {},
   "outputs": [],
   "source": [
    "def find_thera_class(ATC_code: str, mappings) -> str:\n",
    "    for pharma_mapping in mappings:\n",
    "        found = any([ATC_code.startswith(atc_code) for atc_code in pharma_mapping.ATC_Codes])\n",
    "\n",
    "        if found:\n",
    "            exception = (pharma_mapping.ATC_Exceptions is not None) and any([ATC_code.startswith(atc_code) for atc_code in pharma_mapping.ATC_Exceptions])\n",
    "            if not exception:\n",
    "                return pharma_mapping.Therapeutic_class\n",
    "\n",
    "    return None"
   ]
  },
  {
   "cell_type": "markdown",
   "metadata": {},
   "source": [
    "## Apply the functions"
   ]
  },
  {
   "cell_type": "code",
   "execution_count": 10,
   "metadata": {},
   "outputs": [],
   "source": [
    "input_table[\"pharmaceutic_family\"] = input_table.PHA_ATC_C07.apply(lambda x: find_pharma_class(x, fall_study_mappings))\n",
    "input_table[\"therapeutic\"] = input_table.PHA_ATC_C07.apply(lambda x: find_thera_class(x, fall_study_mappings))\n",
    "\n",
    "output_table = input_table[input_table[\"pharmaceutic_family\"].notnull()].copy()"
   ]
  },
  {
   "cell_type": "code",
   "execution_count": 11,
   "metadata": {},
   "outputs": [
    {
     "data": {
      "text/html": [
       "<div>\n",
       "<table border=\"1\" class=\"dataframe\">\n",
       "  <thead>\n",
       "    <tr style=\"text-align: right;\">\n",
       "      <th></th>\n",
       "      <th>PHA_CIP_C13</th>\n",
       "      <th>molecule</th>\n",
       "    </tr>\n",
       "  </thead>\n",
       "  <tbody>\n",
       "    <tr>\n",
       "      <th>0</th>\n",
       "      <td>3400937395793</td>\n",
       "      <td>ATENOLOL</td>\n",
       "    </tr>\n",
       "    <tr>\n",
       "      <th>1</th>\n",
       "      <td>3400938073065</td>\n",
       "      <td>NEBIVOLOL</td>\n",
       "    </tr>\n",
       "    <tr>\n",
       "      <th>2</th>\n",
       "      <td>3400937316903</td>\n",
       "      <td>ATENOLOL</td>\n",
       "    </tr>\n",
       "    <tr>\n",
       "      <th>3</th>\n",
       "      <td>3400937420389</td>\n",
       "      <td>NEBIVOLOL</td>\n",
       "    </tr>\n",
       "    <tr>\n",
       "      <th>4</th>\n",
       "      <td>3400937299190</td>\n",
       "      <td>ATENOLOL</td>\n",
       "    </tr>\n",
       "  </tbody>\n",
       "</table>\n",
       "</div>"
      ],
      "text/plain": [
       "     PHA_CIP_C13   molecule\n",
       "0  3400937395793   ATENOLOL\n",
       "1  3400938073065  NEBIVOLOL\n",
       "2  3400937316903   ATENOLOL\n",
       "3  3400937420389  NEBIVOLOL\n",
       "4  3400937299190   ATENOLOL"
      ]
     },
     "execution_count": 11,
     "metadata": {},
     "output_type": "execute_result"
    }
   ],
   "source": [
    "# Split the Molecules\n",
    "molecules_series = output_table.set_index(\"PHA_CIP_C13\").PHA_NOM_PA.apply(lambda x: x.split(\" + \"))\n",
    "\n",
    "# Flat Map\n",
    "molecules_series = molecules_series.apply(pd.Series).unstack().dropna().reset_index().drop(\"level_0\", axis=\"columns\").rename(columns={0: \"molecule\"})\n",
    "\n",
    "molecules_series.head()"
   ]
  },
  {
   "cell_type": "code",
   "execution_count": 12,
   "metadata": {},
   "outputs": [
    {
     "data": {
      "text/html": [
       "<div>\n",
       "<table border=\"1\" class=\"dataframe\">\n",
       "  <thead>\n",
       "    <tr style=\"text-align: right;\">\n",
       "      <th></th>\n",
       "      <th>PHA_ATC_C07</th>\n",
       "      <th>PHA_CIP_C13</th>\n",
       "      <th>PHA_NOM_PA</th>\n",
       "      <th>pharmaceutic_family</th>\n",
       "      <th>therapeutic</th>\n",
       "      <th>molecule</th>\n",
       "    </tr>\n",
       "  </thead>\n",
       "  <tbody>\n",
       "    <tr>\n",
       "      <th>0</th>\n",
       "      <td>C07AB03</td>\n",
       "      <td>3400937395793</td>\n",
       "      <td>ATENOLOL</td>\n",
       "      <td>Antihypertenseurs_Betabloquants</td>\n",
       "      <td>Antihypertenseurs</td>\n",
       "      <td>ATENOLOL</td>\n",
       "    </tr>\n",
       "    <tr>\n",
       "      <th>1</th>\n",
       "      <td>C07AB12</td>\n",
       "      <td>3400938073065</td>\n",
       "      <td>NEBIVOLOL</td>\n",
       "      <td>Antihypertenseurs_Betabloquants</td>\n",
       "      <td>Antihypertenseurs</td>\n",
       "      <td>NEBIVOLOL</td>\n",
       "    </tr>\n",
       "    <tr>\n",
       "      <th>2</th>\n",
       "      <td>C07AB03</td>\n",
       "      <td>3400937316903</td>\n",
       "      <td>ATENOLOL</td>\n",
       "      <td>Antihypertenseurs_Betabloquants</td>\n",
       "      <td>Antihypertenseurs</td>\n",
       "      <td>ATENOLOL</td>\n",
       "    </tr>\n",
       "    <tr>\n",
       "      <th>3</th>\n",
       "      <td>C07AB12</td>\n",
       "      <td>3400937420389</td>\n",
       "      <td>NEBIVOLOL</td>\n",
       "      <td>Antihypertenseurs_Betabloquants</td>\n",
       "      <td>Antihypertenseurs</td>\n",
       "      <td>NEBIVOLOL</td>\n",
       "    </tr>\n",
       "    <tr>\n",
       "      <th>4</th>\n",
       "      <td>C07AB03</td>\n",
       "      <td>3400937299190</td>\n",
       "      <td>ATENOLOL</td>\n",
       "      <td>Antihypertenseurs_Betabloquants</td>\n",
       "      <td>Antihypertenseurs</td>\n",
       "      <td>ATENOLOL</td>\n",
       "    </tr>\n",
       "  </tbody>\n",
       "</table>\n",
       "</div>"
      ],
      "text/plain": [
       "  PHA_ATC_C07    PHA_CIP_C13 PHA_NOM_PA              pharmaceutic_family  \\\n",
       "0     C07AB03  3400937395793   ATENOLOL  Antihypertenseurs_Betabloquants   \n",
       "1     C07AB12  3400938073065  NEBIVOLOL  Antihypertenseurs_Betabloquants   \n",
       "2     C07AB03  3400937316903   ATENOLOL  Antihypertenseurs_Betabloquants   \n",
       "3     C07AB12  3400937420389  NEBIVOLOL  Antihypertenseurs_Betabloquants   \n",
       "4     C07AB03  3400937299190   ATENOLOL  Antihypertenseurs_Betabloquants   \n",
       "\n",
       "         therapeutic   molecule  \n",
       "0  Antihypertenseurs   ATENOLOL  \n",
       "1  Antihypertenseurs  NEBIVOLOL  \n",
       "2  Antihypertenseurs   ATENOLOL  \n",
       "3  Antihypertenseurs  NEBIVOLOL  \n",
       "4  Antihypertenseurs   ATENOLOL  "
      ]
     },
     "execution_count": 12,
     "metadata": {},
     "output_type": "execute_result"
    }
   ],
   "source": [
    "final_df = pd.merge(output_table, molecules_series, on=\"PHA_CIP_C13\", how=\"inner\")\n",
    "\n",
    "final_df.head()"
   ]
  },
  {
   "cell_type": "code",
   "execution_count": 13,
   "metadata": {},
   "outputs": [
    {
     "data": {
      "text/plain": [
       "7039"
      ]
     },
     "execution_count": 13,
     "metadata": {},
     "output_type": "execute_result"
    }
   ],
   "source": [
    "len(final_df)"
   ]
  },
  {
   "cell_type": "markdown",
   "metadata": {},
   "source": [
    "## Save the output"
   ]
  },
  {
   "cell_type": "code",
   "execution_count": 26,
   "metadata": {},
   "outputs": [],
   "source": [
    "output_file_path = \"/path/to/mapping_molecules.csv\"\n",
    "\n",
    "final_df.to_csv(output_file_path, index=False, )"
   ]
  }
 ],
 "metadata": {
  "kernelspec": {
   "display_name": "Python [conda env:cnam]",
   "language": "python",
   "name": "conda-env-cnam-py"
  },
  "language_info": {
   "codemirror_mode": {
    "name": "ipython",
    "version": 3
   },
   "file_extension": ".py",
   "mimetype": "text/x-python",
   "name": "python",
   "nbconvert_exporter": "python",
   "pygments_lexer": "ipython3",
   "version": "3.5.2"
  }
 },
 "nbformat": 4,
 "nbformat_minor": 2
}
