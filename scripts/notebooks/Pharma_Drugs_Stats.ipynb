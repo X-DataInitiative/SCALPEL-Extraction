{
 "cells": [
  {
   "cell_type": "code",
   "execution_count": 1,
   "metadata": {
    "collapsed": true
   },
   "outputs": [],
   "source": [
    "%load_ext autoreload\n",
    "%autoreload 2"
   ]
  },
  {
   "cell_type": "code",
   "execution_count": 2,
   "metadata": {
    "collapsed": true
   },
   "outputs": [],
   "source": [
    "import sys\n",
    "import os\n",
    "\n",
    "project_path = '../'\n",
    "sys.path.append(project_path)"
   ]
  },
  {
   "cell_type": "code",
   "execution_count": 29,
   "metadata": {
    "collapsed": false
   },
   "outputs": [],
   "source": [
    "from exploration.drug_stats import save_drugs_stats\n",
    "from exploration.drug_stats_strategies import get_pharma_strategies"
   ]
  },
  {
   "cell_type": "code",
   "execution_count": 33,
   "metadata": {
    "collapsed": false
   },
   "outputs": [
    {
     "name": "stdout",
     "output_type": "stream",
     "text": [
      "Reading patients\n",
      "Readings drugs\n",
      "Building stats\n",
      "Building plotts\n"
     ]
    },
    {
     "name": "stderr",
     "output_type": "stream",
     "text": [
      "/usr/local/lib/anaconda3/lib/python3.5/site-packages/matplotlib/pyplot.py:524: RuntimeWarning: More than 20 figures have been opened. Figures created through the pyplot interface (`matplotlib.pyplot.figure`) are retained until explicitly closed and may consume too much memory. (To control this warning, see the rcParam `figure.max_open_warning`).\n",
      "  max_open_warning, RuntimeWarning)\n"
     ]
    },
    {
     "name": "stdout",
     "output_type": "stream",
     "text": [
      "Reading patients\n",
      "Readings drugs\n",
      "Building stats\n",
      "Building plotts\n",
      "Reading patients\n",
      "Readings drugs\n",
      "Building stats\n",
      "Building plotts\n",
      "Reading patients\n",
      "Readings drugs\n",
      "Building stats\n",
      "Building plotts\n"
     ]
    }
   ],
   "source": [
    "patients_path = \"/shared/Observapur/testing/featuring/extract_patients/data\"\n",
    "drugs_path = \"/shared/Observapur/testing/featuring/drug_purchases/data\"\n",
    "root_path = \"/home/sebiat/stats/16_02_2018\"\n",
    "\n",
    "for strategy in get_pharma_strategies():\n",
    "    save_drugs_stats(patients_path, drugs_path, strategy, os.path.join(root_path, strategy.drug_name + \".pdf\"))"
   ]
  }
 ],
 "metadata": {
  "kernelspec": {
   "display_name": "Python 3",
   "language": "python",
   "name": "python3"
  },
  "language_info": {
   "codemirror_mode": {
    "name": "ipython",
    "version": 3
   },
   "file_extension": ".py",
   "mimetype": "text/x-python",
   "name": "python",
   "nbconvert_exporter": "python",
   "pygments_lexer": "ipython3",
   "version": "3.5.3"
  }
 },
 "nbformat": 4,
 "nbformat_minor": 2
}
