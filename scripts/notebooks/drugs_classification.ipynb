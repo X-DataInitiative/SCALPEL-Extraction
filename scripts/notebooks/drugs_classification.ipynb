{
 "cells": [
  {
   "cell_type": "markdown",
   "metadata": {},
   "source": [
    "### Read data"
   ]
  },
  {
   "cell_type": "code",
   "execution_count": 1,
   "metadata": {},
   "outputs": [
    {
     "name": "stdout",
     "output_type": "stream",
     "text": [
      "+-----------+-------------+------------+\n",
      "|PHA_ATC_C07|  PHA_CIP_C13|  PHA_NOM_PA|\n",
      "+-----------+-------------+------------+\n",
      "|    N05CF01|3400935482471|   ZOPICLONE|\n",
      "|    N05CF02|3400934658570|    ZOLPIDEM|\n",
      "|    N05CF02|3400936450516|    ZOLPIDEM|\n",
      "|    N05CF01|3400935877734|   ZOPICLONE|\n",
      "|    N05CD06|3400934966743|LORMETAZEPAM|\n",
      "+-----------+-------------+------------+\n",
      "only showing top 5 rows\n",
      "\n"
     ]
    }
   ],
   "source": [
    "IRPHAR = spark.read.option(\"header\", True).option(\"delimiter\", \";\").option(\"inferSchema\", True).csv(\"D:/firas/fallscripts/new/ir_pha_r.csv\")\n",
    "reduced_IRPHAR = IRPHAR.select(\"PHA_ATC_C07\", \"PHA_CIP_C13\", \"PHA_NOM_PA\")\n",
    "reduced_IRPHAR.show(5)"
   ]
  },
  {
   "cell_type": "markdown",
   "metadata": {},
   "source": [
    "###  Define classes"
   ]
  },
  {
   "cell_type": "code",
   "execution_count": 2,
   "metadata": {
    "collapsed": true
   },
   "outputs": [],
   "source": [
    "names = [\"Antidepresseurs_Tricycliques\", \"Antidepresseurs_ISRS\", \"Antidepresseurs_ISRSN\", \"Antidepresseurs_IMAO_AB\",\n",
    "         \"Antidepresseurs_IMAO_A\", \"Antidepresseurs_autres\",\n",
    "         \"Antihypertenseurs_SARTANS\", \"Antihypertenseurs_IEC\", \"Antihypertenseurs_Diuretiques\",\n",
    "        \"Antihypertenseurs_Betabloquants\", \"Antihypertenseurs_Inhibiteurs_calciques\",\n",
    "        \"Antihypertenseurs_Autres\", \n",
    "         \"Hypnotiques_Benzodiazepine_anxiolytique\", \"Hypnotiques_Autre_anxiolytique\",\n",
    "        \"Hypnotiques_Benzodiazepine_hypnotique\", \"Hypnotiques_Autre_hypnotique\",\n",
    "        \"Neuroleptiques_Neuroleptiques_Atypiques\", \"Neuroleptiques_Autre_neuroleptique\" ]\n",
    "\n",
    "ATCCodes = [[\"N06AA\"], [\"N06AB\"], [\"N06AX11\", \"N06AX16\", \"N06AX17\", \"N06AX21\", \"N06AX26\"],\n",
    "            [\"N06AF\"], [\"N06AG\"], [\"N06AX03\", \"N06AX09\", \"N06AX14\", \"N06AX22\", \"N06AA06\"],\n",
    "           [\"C09C\", \"C09D\"], [\"C09A\", \"C09B\"], [\"C03\"], [\"C07\"], [\"C08\"], [\"C02\", \"C09XA\", \"C10BX03\"],\n",
    "           [\"N05BA\"], [\"N05BB\", \"N05BC\", \"N05BE\", \"N05BX\"], [\"N05CD\"], \n",
    "            [\"N05CF\", \"N05BC51\", \"N05CM11\", \"N05CM16\", \"N05CX\"], [\"N05A\"],\n",
    "           [\"N05AA\", \"N05AH02\", \"N05AH03\", \"N05AL05\", \"N05AX08\", \"N05AX12\"]]\n",
    "\n",
    "ATCExceptions = [ [\"N06AA06\"], [], [], [], [], [], [], [], [], [], [], [], [], [\"N05BC51\"], [\"N05CD08\"],\n",
    "                 [], [\"N05AL06\", \"N05AN01\", \"N05AA\", \"N05AH02\", \"N05AH03\", \"N05AL05\", \"N05AX08\", \"N05AX12\", \"N05AA07\"], [] ]\n",
    "    \n"
   ]
  },
  {
   "cell_type": "markdown",
   "metadata": {},
   "source": [
    "###  Add utilities"
   ]
  },
  {
   "cell_type": "code",
   "execution_count": 3,
   "metadata": {
    "collapsed": true
   },
   "outputs": [],
   "source": [
    "#gets the pharmaceutical family of a drug with code ATC (atc) given ATCCodes, ATCExceptions, names \n",
    "def get_family(ATCCodes, ATCExceptions, names, atc):\n",
    "    print(atc)\n",
    "    res = [j for j, x in enumerate(ATCCodes) if(len([y for y in x if(str(atc).startswith(y))])>0)]\n",
    "    family = \"\"\n",
    "    for index in res:\n",
    "        # test if the atc code is an exception\n",
    "        is_exception = False\n",
    "        res = [x for x in ATCExceptions[index] if(x == atc)]\n",
    "        if(len(res)>0):\n",
    "            is_exception = True\n",
    "  \n",
    "        if(not is_exception):\n",
    "            family =  family + \"_\" + names[index]\n",
    "    return family\n",
    "\n",
    "#gets the pharmaceutic family of a drug given it's atc code\n",
    "def udf_family(ATCCodes, ATCExceptions, names):\n",
    "    return udf(lambda pattern: get_family(ATCCodes, ATCExceptions, names, pattern))\n",
    "    \n",
    "\n",
    "from pyspark.sql.functions import udf, StringType\n",
    "family_udf = udf(get_family, StringType())\n"
   ]
  },
  {
   "cell_type": "markdown",
   "metadata": {},
   "source": [
    "###  Transform data"
   ]
  },
  {
   "cell_type": "code",
   "execution_count": 4,
   "metadata": {
    "collapsed": true
   },
   "outputs": [],
   "source": [
    "data = reduced_IRPHAR.withColumn(\"pharmaceutic_family\", udf_family(ATCCodes, ATCExceptions, names)(reduced_IRPHAR.PHA_ATC_C07))"
   ]
  },
  {
   "cell_type": "code",
   "execution_count": 19,
   "metadata": {},
   "outputs": [],
   "source": [
    "molecules = data.filter(data.pharmaceutic_family != \"\")\n",
    "from pyspark.sql.functions import split, trim, explode\n",
    "\n",
    "molecules = molecules.withColumn(\"molecule\", split(molecules.PHA_NOM_PA,\" ET |\\+\"))\n",
    "molecules = molecules.withColumn(\"molecule\", explode('molecule'))\n",
    "\n",
    "# molecules = molecules.withColumn(\"molecule\", split(molecules.molecules,\" ET \"))\n",
    "# molecules = molecules.withColumn(\"molecule\", explode('molecule'))\n",
    "\n",
    "molecules = molecules.withColumn(\"molecule\", trim(molecules.molecule))\n",
    "molecules = molecules.withColumn(\"pharmaceutic_family\", molecules.pharmaceutic_family.substr(2, 100))\n",
    "molecules = molecules.drop_duplicates([\"pharmaceutic_family\", \"molecule\"])\n",
    "molecules = molecules.withColumn(\"therapeutic\", split(molecules.pharmaceutic_family, \"_\")[0])"
   ]
  },
  {
   "cell_type": "code",
   "execution_count": 20,
   "metadata": {},
   "outputs": [
    {
     "name": "stdout",
     "output_type": "stream",
     "text": [
      "+-------------+-----------+-----------------+--------------------+-------------------+\n",
      "|  PHA_CIP_C13|PHA_ATC_C07|      therapeutic| pharmaceutic_family|           molecule|\n",
      "+-------------+-----------+-----------------+--------------------+-------------------+\n",
      "|3400930573198|    N06AA09|  Antidepresseurs|Antidepresseurs_T...|      AMITRIPTYLINE|\n",
      "|3400939709864|    C09BA06|Antihypertenseurs|Antihypertenseurs...|          QUINAPRIL|\n",
      "|3400931300458|    N05AD05|   Neuroleptiques|Neuroleptiques_Ne...|        PIPAMPERONE|\n",
      "|3400939433059|    N06AX22|  Antidepresseurs|Antidepresseurs_a...|        AGOMELATINE|\n",
      "|3400931037460|    C02LA01|Antihypertenseurs|Antihypertenseurs...|BENDROFLUMETHIAZIDE|\n",
      "|3400932606702|    N05BA21|      Hypnotiques|Hypnotiques_Benzo...|        CLOTIAZEPAM|\n",
      "|3400930777992|    N05CX01|      Hypnotiques|Hypnotiques_Autre...|        MEPROBAMATE|\n",
      "|3400931507284|      N05CX|      Hypnotiques|Hypnotiques_Autre...|     ACEPROMETAZINE|\n",
      "|3400932531097|    N05BA01|      Hypnotiques|Hypnotiques_Benzo...|           DIAZEPAM|\n",
      "|3400949000128|    C09BB04|Antihypertenseurs|Antihypertenseurs...|         AMLODIPINE|\n",
      "|3400932034130|    C07BA02|Antihypertenseurs|Antihypertenseurs...|      DIHYDRALAZINE|\n",
      "|3400930025512|    C03DA04|Antihypertenseurs|Antihypertenseurs...|         EPLERENONE|\n",
      "|3400935077226|    C09AA15|Antihypertenseurs|Antihypertenseurs...|         ZOFENOPRIL|\n",
      "|3400936572614|    C08CA06|Antihypertenseurs|Antihypertenseurs...|         NIMODIPINE|\n",
      "|3400932247059|    C02CA01|Antihypertenseurs|Antihypertenseurs...|          PRAZOSINE|\n",
      "|3400934389788|    C08CX01|Antihypertenseurs|Antihypertenseurs...|         MIBEFRADIL|\n",
      "|3400949490431|    N06AB06|  Antidepresseurs|Antidepresseurs_ISRS|         SERTRALINE|\n",
      "|3400939559698|    C09DA01|Antihypertenseurs|Antihypertenseurs...|           LOSARTAN|\n",
      "|3400933984281|    N05AH01|   Neuroleptiques|Neuroleptiques_Ne...|           LOXAPINE|\n",
      "|3400932896332|    N05AA07|   Neuroleptiques|Neuroleptiques_Au...|   CHLORPROETHAZINE|\n",
      "+-------------+-----------+-----------------+--------------------+-------------------+\n",
      "only showing top 20 rows\n",
      "\n"
     ]
    }
   ],
   "source": [
    "drugs_classified = molecules.select(\"PHA_CIP_C13\", \"PHA_ATC_C07\", \"therapeutic\", \"pharmaceutic_family\", \"molecule\")\n",
    "drugs_classified.show(20)"
   ]
  },
  {
   "cell_type": "code",
   "execution_count": 21,
   "metadata": {},
   "outputs": [
    {
     "data": {
      "text/plain": [
       "192"
      ]
     },
     "execution_count": 21,
     "metadata": {},
     "output_type": "execute_result"
    }
   ],
   "source": [
    "drugs_classified.count()"
   ]
  },
  {
   "cell_type": "markdown",
   "metadata": {},
   "source": [
    "###  write data"
   ]
  },
  {
   "cell_type": "code",
   "execution_count": 22,
   "metadata": {
    "collapsed": true
   },
   "outputs": [],
   "source": [
    "drugs_classified.coalesce(1).write.option(\"delimiter\", \";\").option(\"header\", True).csv(\"D:/firas/fallscripts/new/drugs_classification5\")"
   ]
  }
 ],
 "metadata": {
  "kernelspec": {
   "display_name": "Python 3",
   "language": "python",
   "name": "python3"
  },
  "language_info": {
   "codemirror_mode": {
    "name": "ipython",
    "version": 3
   },
   "file_extension": ".py",
   "mimetype": "text/x-python",
   "name": "python",
   "nbconvert_exporter": "python",
   "pygments_lexer": "ipython3",
   "version": "3.6.1"
  }
 },
 "nbformat": 4,
 "nbformat_minor": 2
}
