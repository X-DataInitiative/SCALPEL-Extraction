{
 "cells": [
  {
   "cell_type": "markdown",
   "metadata": {},
   "source": [
    "# Fall study basic stats\n",
    "\n",
    "This notebook should always be run after the StudyMain from the fr.polytechnique.cmap.cnam.study.fall package."
   ]
  },
  {
   "cell_type": "markdown",
   "metadata": {},
   "source": [
    "## Loading data"
   ]
  },
  {
   "cell_type": "code",
   "execution_count": null,
   "metadata": {
    "collapsed": false
   },
   "outputs": [],
   "source": [
    "prs_path = \"/shared/Observapur/staging/Flattening/single_table/ER_PRS_F\"\n",
    "mco_path = \"/shared/Observapur/staging/Flattening/single_table/MCO_C\"\n",
    "ir_ben_r_path = \"/shared/Observapur/staging/Flattening/single_table/IR_BEN_R\""
   ]
  },
  {
   "cell_type": "code",
   "execution_count": null,
   "metadata": {
    "collapsed": false
   },
   "outputs": [],
   "source": [
    "outcomes = spark.read.load(\"outcomes\")\n",
    "patients = spark.read.load(\"patients\")"
   ]
  },
  {
   "cell_type": "markdown",
   "metadata": {},
   "source": [
    "### Outcomes :"
   ]
  },
  {
   "cell_type": "code",
   "execution_count": null,
   "metadata": {
    "collapsed": false
   },
   "outputs": [],
   "source": [
    "print(outcomes.count())\n",
    "outcomes.printSchema()\n",
    "outcomes.show(truncate=False)"
   ]
  },
  {
   "cell_type": "code",
   "execution_count": null,
   "metadata": {
    "collapsed": false
   },
   "outputs": [],
   "source": [
    "outcomes.groupBy(\"value\").count().show(truncate=False)"
   ]
  },
  {
   "cell_type": "markdown",
   "metadata": {},
   "source": [
    "### Statistics with patients :"
   ]
  },
  {
   "cell_type": "code",
   "execution_count": null,
   "metadata": {
    "collapsed": false
   },
   "outputs": [],
   "source": [
    "total = outcomes.join(patients, \"patientID\").cache()"
   ]
  },
  {
   "cell_type": "code",
   "execution_count": null,
   "metadata": {
    "collapsed": false
   },
   "outputs": [],
   "source": [
    "print(\"Total count of patients with an eligible fracture in the data from 2010 to 2014 :\")\n",
    "print(outcomes.select(\"patientID\").distinct().count())"
   ]
  },
  {
   "cell_type": "code",
   "execution_count": null,
   "metadata": {
    "collapsed": false
   },
   "outputs": [],
   "source": [
    "from pyspark.sql.functions import *\n",
    "print(\"Total count of old patients with an eligible fracture in the data from 2010 to 2014 :\")\n",
    "print(total.filter(2010 - year(\"birthDate\") > 65).distinct().count())"
   ]
  },
  {
   "cell_type": "markdown",
   "metadata": {},
   "source": [
    "# Weird stuff"
   ]
  },
  {
   "cell_type": "markdown",
   "metadata": {},
   "source": [
    "## NUM_ENQ in ben has multiple lines..."
   ]
  },
  {
   "cell_type": "code",
   "execution_count": null,
   "metadata": {
    "collapsed": false
   },
   "outputs": [],
   "source": [
    "ben = spark.read.load(ir_ben_r_path).withColumnRenamed(\"NUM_ENQ\", \"patientID\")\n",
    "print(ben.count())\n",
    "print(ben.groupBy(\"patientID\").count().filter(col(\"count\")>1).count())"
   ]
  },
  {
   "cell_type": "markdown",
   "metadata": {},
   "source": [
    "## Patients are missing from patients DataFrame"
   ]
  },
  {
   "cell_type": "code",
   "execution_count": null,
   "metadata": {
    "collapsed": false
   },
   "outputs": [],
   "source": [
    "problem = outcomes.select(\"patientID\").distinct().subtract(patients.select(\"patientID\")).cache()\n",
    "problem.show()\n",
    "print(\"Number of patientID that are in our outcomes dataframe but not in our patients dataframe :\")\n",
    "print(problem.count())"
   ]
  },
  {
   "cell_type": "markdown",
   "metadata": {},
   "source": [
    "### Comparison with IR_BEN_R\n",
    "\n",
    "We compare the patientIDs of the people in outcomes but not in patients with the NUM_ENQ in IR_BEN_R.\n",
    "\n",
    "One factor that might explain the difference in our situation might be the age of the people. We don't have anyone older than 18 missing (besides some weird values)."
   ]
  },
  {
   "cell_type": "code",
   "execution_count": null,
   "metadata": {
    "collapsed": false
   },
   "outputs": [],
   "source": [
    "benPatients = ben.select(\"patientID\").distinct()\n",
    "pbBen = problem.intersect(benPatients)\n",
    "print(\"Number of patient present in IR_BEN_R but not in the patient DF : \")\n",
    "print(pbBen.count())\n",
    "print(\"Computing age of the patient in IR_BEN_R missing from the patient DF : \")\n",
    "pbBen.join(ben, \"patientID\").withColumn(\"age\", lit(2010) - col(\"BEN_NAI_ANN\")).groupBy(\"age\").count().show(22)"
   ]
  },
  {
   "cell_type": "code",
   "execution_count": null,
   "metadata": {
    "collapsed": false
   },
   "outputs": [],
   "source": [
    "remaining = problem.subtract(benPatients).cache()\n",
    "print(\"Number of problematic patients that doesn't appear in IR_BEN_R :\")\n",
    "print(remaining.count())"
   ]
  },
  {
   "cell_type": "markdown",
   "metadata": {},
   "source": [
    "### Comparison with DCIR/ PRS\n",
    "\n",
    "We have a very few number of patients in DCIR that are not in IR_BEN_R"
   ]
  },
  {
   "cell_type": "code",
   "execution_count": null,
   "metadata": {
    "collapsed": false
   },
   "outputs": [],
   "source": [
    "prs = spark.read.load(prs_path).withColumnRenamed(\"NUM_ENQ\", \"patientID\")\n",
    "remaining.intersect(prs.select(\"patientID\").distinct()).count()"
   ]
  },
  {
   "cell_type": "markdown",
   "metadata": {},
   "source": [
    "### Comparison with MCO\n",
    "\n",
    "We have people in MCO with no existence in IR_BEN_R. This is kind of weird."
   ]
  },
  {
   "cell_type": "code",
   "execution_count": null,
   "metadata": {
    "collapsed": false
   },
   "outputs": [],
   "source": [
    "mco = spark.read.load(mco_path).withColumnRenamed(\"NUM_ENQ\", \"patientID\")\n",
    "remaining.intersect(mco.select(\"patientID\").distinct()).count()"
   ]
  },
  {
   "cell_type": "code",
   "execution_count": null,
   "metadata": {
    "collapsed": true
   },
   "outputs": [],
   "source": [
    ""
   ]
  }
 ],
 "metadata": {
  "celltoolbar": "Raw Cell Format",
  "kernelspec": {
   "display_name": "Python 3",
   "language": "python",
   "name": "python3"
  },
  "language_info": {
   "codemirror_mode": {
    "name": "ipython",
    "version": 3.0
   },
   "file_extension": ".py",
   "mimetype": "text/x-python",
   "name": "python",
   "nbconvert_exporter": "python",
   "pygments_lexer": "ipython3",
   "version": "3.5.3"
  }
 },
 "nbformat": 4,
 "nbformat_minor": 0
}
